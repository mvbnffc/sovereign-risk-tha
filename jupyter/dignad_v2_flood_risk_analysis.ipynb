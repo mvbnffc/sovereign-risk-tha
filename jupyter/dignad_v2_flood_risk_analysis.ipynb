{
 "cells": [
  {
   "cell_type": "code",
   "execution_count": 1,
   "id": "de0f881b-5b2d-4a1c-b4bc-692a96beda31",
   "metadata": {},
   "outputs": [],
   "source": [
    "# Standard libraries\n",
    "import sys\n",
    "import os\n",
    "import numpy as np\n",
    "import pandas as pd\n",
    "import matplotlib.pyplot as plt"
   ]
  },
  {
   "cell_type": "code",
   "execution_count": 2,
   "id": "87be3cb5-7c7d-437b-9af0-bb5d49ae2e68",
   "metadata": {},
   "outputs": [],
   "source": [
    "# Going to make sure we can load all the custom scripts from the directory\n",
    "scripts_dir = r\"C:\\Users\\Mark.DESKTOP-UFHIN6T\\Projects\\sovereign-risk-THA\\scripts\\analysis\"\n",
    "# Add scripts directory to sys.path\n",
    "if scripts_dir not in sys.path:\n",
    "    sys.path.append(scripts_dir)"
   ]
  },
  {
   "cell_type": "code",
   "execution_count": 11,
   "id": "3dcfeca3-4885-49a1-b911-3e5c37fcdfcf",
   "metadata": {},
   "outputs": [],
   "source": [
    "from model_dependence import model_dependence\n",
    "from analysis_functions import basin_loss_curve, interpolate_damages, get_copula_model, generate_conditional_sample"
   ]
  },
  {
   "cell_type": "code",
   "execution_count": 4,
   "id": "a8e722c2-b742-4b36-a6cc-575ee04ec3b0",
   "metadata": {},
   "outputs": [],
   "source": [
    "# Calculate dependency using copulas\n",
    "clayton_copula_models, ordered_basins = model_dependence()"
   ]
  },
  {
   "cell_type": "code",
   "execution_count": 7,
   "id": "233ff439-cb9c-451c-8468-03d020866017",
   "metadata": {},
   "outputs": [],
   "source": [
    "# Load risk data\n",
    "risk_data_file = r\"D:\\projects\\sovereign-risk\\Thailand\\analysis\\flood\\risk_analysis\\dignad\\exposure\\risk_basin_zonal_sum.csv\"\n",
    "risk_data = pd.read_csv(risk_data_file)\n",
    "# Add columne for annual exceedance probability\n",
    "risk_data['AEP'] = 1 / risk_data['RP']\n",
    "# Add a column converting current prorection level into AEP\n",
    "risk_data['Pr_L_AEP'] = np.where(risk_data['Pr_L'] == 0, 0, 1 / risk_data['Pr_L']) # using numpy where avoids zero division errors\n",
    "# Add row for each combination that sums residential and non-residential damages\n",
    "grouped = risk_data.groupby(['FID', 'GID_1', 'NAME', 'HB_L4', 'HB_L5', 'HB_L6', 'HB_L7', 'Pr_L', 'Pr_L_AEP', 'Add_Pr', 'New_Pr_L', 'epoch', 'adaptation_scenario', 'RP', 'AEP'], as_index=False)['damages'].sum()\n",
    "grouped['urban_class'] = 'Combined'  # Add a column for urban_class with value 'total'\n",
    "risk_data = pd.concat([risk_data, grouped], ignore_index=True).sort_values(by=['FID', 'GID_1', 'NAME', 'HB_L4', 'HB_L5', 'HB_L6', 'HB_L7', 'Pr_L', 'Pr_L_AEP', 'Add_Pr', 'New_Pr_L', 'epoch', 'adaptation_scenario', 'RP', 'AEP'])\n",
    "risk_data.reset_index(drop=True, inplace=True)"
   ]
  },
  {
   "cell_type": "code",
   "execution_count": 12,
   "id": "cf456e40-6a4d-4bed-8ecb-a55a5c126f66",
   "metadata": {},
   "outputs": [],
   "source": [
    "# Function for sectoral monte carlo simulation\n",
    "def sectoral_monte_carlo_dependence_simulation(loss_df, rps, basin_col, epoch_val, scenario_val, protection_level, num_years, ordered_basins, copula_models, num_simulations=10000):\n",
    "    '''\n",
    "    Perform Monte Carlo simulations of yearly losses incorporating basin dependencies.\n",
    "    Same as the monte carlo dependence simulation, except it now outputs sectoral losses.\n",
    "\n",
    "    :param loss_df: dataframe with losses from risk analysis\n",
    "    :param rps: list of return periods to consider. \n",
    "    :param basin_col: name of column for basins (e.g. 'HB_L6')\n",
    "    :param epoch_val: name of epoch value (e.g. 'Today')\n",
    "    :param scenario_val: name of scenario (e.g. 'Baseline')\n",
    "    :param protection_level: what is the baseline protection level (e.g. 0.5 or 1 in 2 years)\n",
    "    :param num_years: Number of years to simulate\n",
    "    :param ordered_basins: List of basin IDs ordered by dependency\n",
    "    :param copula_models: Dictionary holding copula model for each basin pair\n",
    "    :param num_simulations: Number of simulations (default is 10,000).\n",
    "    :return: Dataframe of simulated national losses for each year, for each sector\n",
    "    '''\n",
    "\n",
    "    # To speed up the Monte-Carlo simulation we are going to pre-compute some variables\n",
    "    # precompute loss-probability curves for each basin for the four ectors\n",
    "    \n",
    "    res_basin_loss_curves = {basin_id: basin_loss_curve(loss_df, basin_id, basin_col, epoch_val, scenario_val, \"Residential\", rps) for basin_id in ordered_basins}\n",
    "    com_basin_loss_curves = {basin_id: basin_loss_curve(loss_df, basin_id, basin_col, epoch_val, scenario_val, \"Commercial\", rps) for basin_id in ordered_basins}\n",
    "    ind_basin_loss_curves = {basin_id: basin_loss_curve(loss_df, basin_id, basin_col, epoch_val, scenario_val, \"Industrial\", rps) for basin_id in ordered_basins}\n",
    "    inf_basin_loss_curves = {basin_id: basin_loss_curve(loss_df, basin_id, basin_col, epoch_val, scenario_val, \"Infrastructure\", rps) for basin_id in ordered_basins}\n",
    "    \n",
    "    # Initialize arrays for national losses\n",
    "    res_national_losses_per_year = np.zeros((num_simulations, num_years))\n",
    "    com_national_losses_per_year = np.zeros((num_simulations, num_years))\n",
    "    ind_national_losses_per_year = np.zeros((num_simulations, num_years))\n",
    "    inf_national_losses_per_year = np.zeros((num_simulations, num_years))\n",
    "    # Generate all random numbers in advance\n",
    "    random_numbers = np.random.uniform(0, 1, (num_simulations, num_years, len(ordered_basins))).astype(np.float32)\n",
    "\n",
    "    for simulation in range(num_simulations):\n",
    "        # # print progress\n",
    "        # if simulation % 50 == 0:\n",
    "        #     print('Simulation progress: %s out of %s' % (simulation, num_simulations))\n",
    "        for year in range(num_years):\n",
    "            # Initialize a list to store losses for each basin for the current year\n",
    "            yearly_losses = []\n",
    "            res_yearly_loss_values = []\n",
    "            com_yearly_loss_values = []\n",
    "            ind_yearly_loss_values = []\n",
    "            inf_yearly_loss_values = []\n",
    "            for i, basin_id in enumerate(ordered_basins):\n",
    "                # print(basin_id)\n",
    "                if i == 0:\n",
    "                    # Handle first basin\n",
    "                    r = random_numbers[simulation, year, i]\n",
    "                    res_loss_curves = res_basin_loss_curves[basin_id]\n",
    "                    com_loss_curves = com_basin_loss_curves[basin_id]\n",
    "                    ind_loss_curves = ind_basin_loss_curves[basin_id]\n",
    "                    inf_loss_curves = inf_basin_loss_curves[basin_id]\n",
    "                    basin_loss = 0\n",
    "                    yearly_losses.append(r) # add current loss simulation to the list\n",
    "                    for Pr_L in res_loss_curves: # loop through basin protection levels\n",
    "                        if Pr_L <= r:\n",
    "                            # print(Pr_L, 'smaller than', r, 'continuing...') # if baseline protection is achieved...\n",
    "                            continue\n",
    "                        else:\n",
    "                            res_yearly_loss_values.append(interpolate_damages(rps, res_loss_curves[Pr_L], r, protection_level))\n",
    "                            com_yearly_loss_values.append(interpolate_damages(rps, com_loss_curves[Pr_L], r, protection_level))\n",
    "                            ind_yearly_loss_values.append(interpolate_damages(rps, ind_loss_curves[Pr_L], r, protection_level))\n",
    "                            inf_yearly_loss_values.append(interpolate_damages(rps, inf_loss_curves[Pr_L], r, protection_level))\n",
    "                            \n",
    "                else:\n",
    "                    res_loss_curves = res_basin_loss_curves[basin_id]\n",
    "                    com_loss_curves = com_basin_loss_curves[basin_id]\n",
    "                    ind_loss_curves = ind_basin_loss_curves[basin_id]\n",
    "                    inf_loss_curves = inf_basin_loss_curves[basin_id]\n",
    "                    # Handle subsequent basins with dependencies\n",
    "                    copula = get_copula_model(copula_models, ordered_basins[i-1], basin_id)\n",
    "                    if copula is not None:\n",
    "                        # Apply dependency model if theta exists\n",
    "                        r = random_numbers[simulation, year, i]\n",
    "                        previous_loss = yearly_losses[i-1]\n",
    "                        current_loss = generate_conditional_sample(previous_loss, copula.theta, r)\n",
    "                        yearly_losses.append(current_loss)\n",
    "                        # TODO: need to check below assumption. Currently, the (1-current_loss) criteria leads to stupid results.\n",
    "                        # in the below interpolation the (1-current_loss) part of the equation is critical.\n",
    "                        # because the copula is optimized to model tail dependencies (e.g. > 0.9) and our AEPs are \n",
    "                        # essentially inverted (e.g. 0.001 is extreme) we need to invert the random number for interpolating the\n",
    "                        # losses. This changes nothing apart from ensuring tail dependency is preserved. \n",
    "                        for Pr_L in res_loss_curves: # loop through basin protection levels\n",
    "                            if Pr_L <= current_loss:\n",
    "                                # print(Pr_L, 'smaller than', r, 'continuing...') # if baseline protection is achieved...\n",
    "                                continue\n",
    "                            else:\n",
    "                                res_yearly_loss_values.append(interpolate_damages(rps, res_loss_curves[Pr_L], current_loss, protection_level))\n",
    "                                com_yearly_loss_values.append(interpolate_damages(rps, com_loss_curves[Pr_L], current_loss, protection_level))\n",
    "                                ind_yearly_loss_values.append(interpolate_damages(rps, ind_loss_curves[Pr_L], current_loss, protection_level))\n",
    "                                inf_yearly_loss_values.append(interpolate_damages(rps, inf_loss_curves[Pr_L], current_loss, protection_level))\n",
    "                    else:\n",
    "                        # Independent simulation for this basin\n",
    "                        r = random_numbers[simulation, year, i]\n",
    "                        yearly_losses.append(r)\n",
    "                        for Pr_L in res_loss_curves: # loop through basin protection levels\n",
    "                            if Pr_L <= r:\n",
    "                                continue\n",
    "                            else:\n",
    "                                res_yearly_loss_values.append(interpolate_damages(rps, res_loss_curves[Pr_L], r, protection_level))\n",
    "                                com_yearly_loss_values.append(interpolate_damages(rps, com_loss_curves[Pr_L], r, protection_level))\n",
    "                                ind_yearly_loss_values.append(interpolate_damages(rps, ind_loss_curves[Pr_L], r, protection_level))\n",
    "                                inf_yearly_loss_values.append(interpolate_damages(rps, inf_loss_curves[Pr_L], r, protection_level))\n",
    "\n",
    "            # Aggregate losses for the current year\n",
    "            res_national_losses_per_year[simulation, year] = sum(res_yearly_loss_values)\n",
    "            com_national_losses_per_year[simulation, year] = sum(com_yearly_loss_values)\n",
    "            ind_national_losses_per_year[simulation, year] = sum(ind_yearly_loss_values)\n",
    "            inf_national_losses_per_year[simulation, year] = sum(inf_yearly_loss_values)\n",
    "\n",
    "    res_df = pd.DataFrame(res_national_losses_per_year, columns=[f'Year_{i+1}' for i in range(num_years)])\n",
    "    com_df = pd.DataFrame(com_national_losses_per_year, columns=[f'Year_{i+1}' for i in range(num_years)])\n",
    "    ind_df = pd.DataFrame(ind_national_losses_per_year, columns=[f'Year_{i+1}' for i in range(num_years)])\n",
    "    inf_df = pd.DataFrame(inf_national_losses_per_year, columns=[f'Year_{i+1}' for i in range(num_years)])\n",
    "\n",
    "    return res_df, com_df, ind_df, inf_df"
   ]
  },
  {
   "cell_type": "code",
   "execution_count": 13,
   "id": "956d3457-4c6a-438b-ab9a-6339113e3881",
   "metadata": {},
   "outputs": [],
   "source": [
    "# Run the simulation\n",
    "rps = [2, 5, 10, 25, 50, 100, 200, 500, 1000] # these are the RPs we are considering\n",
    "n_simulations = 1000\n",
    "n_years = 100\n",
    "basin = 'HB_L6' # only looking at HydroBASIN level 6 basins\n",
    "epoch ='Today'\n",
    "scenario = 'Baseline'\n",
    "res_df, com_df, ind_df, inf_df = sectoral_monte_carlo_dependence_simulation(risk_data, rps, basin, epoch, scenario, 0.5, n_years, ordered_basins, clayton_copula_models, n_simulations)"
   ]
  },
  {
   "cell_type": "code",
   "execution_count": 14,
   "id": "851e93aa-82f5-484f-aebe-f3c0d83995d5",
   "metadata": {},
   "outputs": [
    {
     "name": "stderr",
     "output_type": "stream",
     "text": [
      "C:\\Users\\Mark.DESKTOP-UFHIN6T\\AppData\\Local\\Temp\\ipykernel_14724\\361060856.py:11: RuntimeWarning: invalid value encountered in divide\n",
      "  share_tradable = ((com_losses * 0.3544) + (ind_losses * 0.8503))/((res_losses*0.9111)+(com_losses*0.7205)+(ind_losses*0.885)+(inf_losses*0.4645))\n"
     ]
    }
   ],
   "source": [
    "# Prepare inputs for DIGNAD\n",
    "res_losses = res_df.values.flatten()\n",
    "com_losses = com_df.values.flatten()\n",
    "ind_losses = ind_df.values.flatten()\n",
    "inf_losses = inf_df.values.flatten()\n",
    "total_losses = res_losses + com_losses + ind_losses + inf_losses\n",
    "tradable_perc_impact = ((com_losses * 0.3544) + (ind_losses * 0.8503))/14241662000000 # tradable cap stock\n",
    "nontradable_perc_impact = (res_losses + (com_losses*0.6456) + (ind_losses*0.1497) + inf_losses)/25778622000000 # nontradable cap stock\n",
    "public_perc_impact = ((res_losses*0.0889)+(com_losses*0.2795)+(ind_losses*0.115)+(inf_losses*0.5355))/17367000000000 # GDP\n",
    "private_perc_impact = ((res_losses*0.9111)+(com_losses*0.7205)+(ind_losses*0.885)+(inf_losses*0.4645))/17367000000000\n",
    "share_tradable = ((com_losses * 0.3544) + (ind_losses * 0.8503))/((res_losses*0.9111)+(com_losses*0.7205)+(ind_losses*0.885)+(inf_losses*0.4645))\n",
    "# Sort the layers based on total losses\n",
    "sorted_indices = np.argsort(total_losses)\n",
    "sorted_losses = total_losses[sorted_indices]\n",
    "sorted_tradable = tradable_perc_impact[sorted_indices]\n",
    "sorted_nontradable = nontradable_perc_impact[sorted_indices]\n",
    "sorted_public = public_perc_impact[sorted_indices]\n",
    "sorted_private = private_perc_impact[sorted_indices]\n",
    "sorted_share_tradable = share_tradable[sorted_indices]"
   ]
  },
  {
   "cell_type": "code",
   "execution_count": 48,
   "id": "a15ea366-9c5c-4e32-a1e3-d581d7fe5b91",
   "metadata": {},
   "outputs": [],
   "source": [
    "# Calculate exceedance probabilities\n",
    "num_losses = len(sorted_losses)\n",
    "exceedance_probabilities = np.arange(num_losses, 0, -1) / num_losses"
   ]
  },
  {
   "cell_type": "code",
   "execution_count": 81,
   "id": "f57cc9d2-67c0-4357-9944-ddfdbb3b5731",
   "metadata": {},
   "outputs": [],
   "source": [
    "# Functions for extracting data\n",
    "def get_loss_for_rp(return_period, sorted_losses, exceedance_probs):\n",
    "    ep = 1 / return_period\n",
    "    if ep >= exceedance_probs[0]:\n",
    "        return sorted_losses[0]\n",
    "    elif ep <= exceedance_probs[-1]:\n",
    "        return sorted_losses[-1]\n",
    "    else:\n",
    "        return np.interp(ep, exceedance_probs[::-1], sorted_losses[::-1])\n",
    "# Function for extracting DIGNAD data\n",
    "def get_dignad_inputs_for_rp(return_period):\n",
    "    tradable_impact = get_loss_for_rp(return_period, sorted_tradable, exceedance_probabilities)\n",
    "    nontradable_impact = get_loss_for_rp(return_period, sorted_nontradable, exceedance_probabilities)\n",
    "    public_impact = get_loss_for_rp(return_period, sorted_public, exceedance_probabilities)\n",
    "    private_impact = get_loss_for_rp(return_period, sorted_private, exceedance_probabilities)\n",
    "    share_tradable = get_loss_for_rp(return_period, sorted_share_tradable, exceedance_probabilities)\n",
    "    return tradable_impact, nontradable_impact, public_impact, private_impact, share_tradable"
   ]
  },
  {
   "cell_type": "code",
   "execution_count": 82,
   "id": "ed7b2068-d522-4cb5-8ace-4bec3f44b0c5",
   "metadata": {},
   "outputs": [
    {
     "data": {
      "text/plain": [
       "38943154499.96107"
      ]
     },
     "execution_count": 82,
     "metadata": {},
     "output_type": "execute_result"
    }
   ],
   "source": [
    "get_loss_for_rp(2, sorted_losses, exceedance_probabilities)"
   ]
  },
  {
   "cell_type": "code",
   "execution_count": 109,
   "id": "fe1038b5-3ee2-4b49-ab8a-800be49d0b27",
   "metadata": {},
   "outputs": [
    {
     "data": {
      "text/plain": [
       "1401.9535619985984"
      ]
     },
     "execution_count": 109,
     "metadata": {},
     "output_type": "execute_result"
    }
   ],
   "source": [
    "get_loss_for_rp(2, sorted_losses, exceedance_probabilities)/1000000000*36"
   ]
  },
  {
   "cell_type": "code",
   "execution_count": 102,
   "id": "09622169-032e-4ae9-8b19-01145be1ad7f",
   "metadata": {},
   "outputs": [
    {
     "data": {
      "text/plain": [
       "(0.0003510712380910068,\n",
       " 0.0013167234691267603,\n",
       " 0.0007853852630016823,\n",
       " 0.0014569798259579001,\n",
       " 0.19759574238749458)"
      ]
     },
     "execution_count": 102,
     "metadata": {},
     "output_type": "execute_result"
    }
   ],
   "source": [
    "get_dignad_inputs_for_rp(2)"
   ]
  },
  {
   "cell_type": "code",
   "execution_count": 49,
   "id": "1a62aaae-a94a-4123-bf9e-f052d87af28e",
   "metadata": {},
   "outputs": [
    {
     "data": {
      "text/plain": [
       "array([1.0000e+00, 9.9999e-01, 9.9998e-01, ..., 3.0000e-05, 2.0000e-05,\n",
       "       1.0000e-05])"
      ]
     },
     "execution_count": 49,
     "metadata": {},
     "output_type": "execute_result"
    }
   ],
   "source": [
    "exceedance_probabilities"
   ]
  },
  {
   "cell_type": "code",
   "execution_count": 79,
   "id": "5cdc1e52-ffb5-4b11-92d2-4d0e941a3df9",
   "metadata": {},
   "outputs": [
    {
     "data": {
      "image/png": "[encoded data removed]",
      "text/plain": [
       "<Figure size 1000x600 with 1 Axes>"
      ]
     },
     "metadata": {},
     "output_type": "display_data"
    }
   ],
   "source": [
    "# Plot\n",
    "\n",
    "plot_sorted_losses = sorted_losses / 40020283000000\n",
    "\n",
    "plt.figure(figsize=(10, 6))\n",
    "plt.plot(plot_sorted_losses, exceedance_probabilities, marker='o', linestyle='-', color='b')\n",
    "plt.xlabel('Loss Values')\n",
    "plt.ylabel('Exceedance Probability')\n",
    "plt.title('Loss Exceedance Probability Curve')\n",
    "plt.grid(True)\n",
    "# plt.yscale('log')  # Optionally use a logarithmic scale for the y-axis\n",
    "plt.show()"
   ]
  },
  {
   "cell_type": "code",
   "execution_count": 16,
   "id": "a712e78b-c89b-4acb-a5c4-4db9fb4d624f",
   "metadata": {},
   "outputs": [
    {
     "name": "stdout",
     "output_type": "stream",
     "text": [
      "[      0.               0.               0.         ... 6038989.31612939\n",
      " 6433144.75265861 6454268.62777974]\n"
     ]
    }
   ],
   "source": []
  },
  {
   "cell_type": "code",
   "execution_count": null,
   "id": "95850563-e1a2-45c4-99d5-0cd10664cd09",
   "metadata": {},
   "outputs": [],
   "source": []
  }
 ],
 "metadata": {
  "kernelspec": {
   "display_name": "sovereign-risk",
   "language": "python",
   "name": "sovereign-risk"
  },
  "language_info": {
   "codemirror_mode": {
    "name": "ipython",
    "version": 3
   },
   "file_extension": ".py",
   "mimetype": "text/x-python",
   "name": "python",
   "nbconvert_exporter": "python",
   "pygments_lexer": "ipython3",
   "version": "3.9.19"
  }
 },
 "nbformat": 4,
 "nbformat_minor": 5
}
