{
 "cells": [
  {
   "cell_type": "code",
   "execution_count": 26,
   "id": "eec11249-27a0-4df8-9d1e-8c975697808f",
   "metadata": {},
   "outputs": [],
   "source": [
    "import rasterio\n",
    "from rasterio.enums import Resampling\n",
    "from rasterio.warp import reproject\n",
    "import numpy as np"
   ]
  },
  {
   "cell_type": "code",
   "execution_count": 16,
   "id": "e551991d-2af3-4776-bf5e-30d168aee503",
   "metadata": {},
   "outputs": [],
   "source": [
    "reference_dataset = r\"D:\\projects\\sovereign-risk\\Thailand\\data\\exposure\\CISI_THA.tif\"\n",
    "flood_dataset = r\"D:\\projects\\sovereign-risk\\Thailand\\data\\flood\\maps\\THA_global_pc_h100glob.tif\"\n",
    "output_dataset = r\"D:\\projects\\sovereign-risk\\Thailand\\data\\flood\\maps\\aggregated_0p1_degree\\test_100.tif\""
   ]
  },
  {
   "cell_type": "code",
   "execution_count": 19,
   "id": "9ff29a38-e658-4c86-938e-c07f0fe72f3a",
   "metadata": {},
   "outputs": [],
   "source": [
    "# Load the high-resolution flood map\n",
    "with rasterio.open(flood_dataset) as high_res:\n",
    "    high_res_data = high_res.read(1)  # Read the first band\n",
    "    # Replace NoData values with 0\n",
    "    nodata_value = high_res.nodata\n",
    "    if nodata_value is not None:\n",
    "        high_res_data[np.isnan(high_res_data)] = 0\n",
    "        high_res_data[high_res_data == nodata_value] = 0\n",
    "    \n",
    "    high_res_transform = high_res.transform"
   ]
  },
  {
   "cell_type": "code",
   "execution_count": 20,
   "id": "4488ec30-a2dd-41a3-beca-1a9a9031437f",
   "metadata": {},
   "outputs": [],
   "source": [
    "# Load the coarse resolution dataset to use as a reference\n",
    "with rasterio.open(reference_dataset) as coarse_res:\n",
    "    coarse_res_transform = coarse_res.transform\n",
    "    coarse_res_width = coarse_res.width\n",
    "    coarse_res_height = coarse_res.height"
   ]
  },
  {
   "cell_type": "code",
   "execution_count": 21,
   "id": "3ac4f60b-05f0-4de8-8733-3d3ab9209e71",
   "metadata": {},
   "outputs": [],
   "source": [
    "# Calculate the scaling factors\n",
    "scale_x = coarse_res_transform.a / high_res_transform.a\n",
    "scale_y = coarse_res_transform.e / high_res_transform.e"
   ]
  },
  {
   "cell_type": "code",
   "execution_count": 27,
   "id": "d17ddd29-9d20-4f7c-8183-bdcaf751574c",
   "metadata": {},
   "outputs": [],
   "source": [
    "# Use rasterio's reproject to resample and aggregate the high-resolution data\n",
    "with rasterio.open(flood_dataset) as src:\n",
    "    # Define the metadata for the new aggregated dataset\n",
    "    out_meta = src.meta.copy()\n",
    "    out_meta.update({\n",
    "        \"driver\": \"GTiff\",\n",
    "        \"height\": coarse_res_height,\n",
    "        \"width\": coarse_res_width,\n",
    "        \"transform\": coarse_res_transform\n",
    "    })\n",
    "    with rasterio.open(output_dataset, 'w', **out_meta) as dst:\n",
    "    # Perform the aggregation\n",
    "        for i in range(1, src.count + 1):\n",
    "            reproject(\n",
    "                source=rasterio.band(src, i),\n",
    "                destination=rasterio.band(dst, i),\n",
    "                src_transform=src.transform,\n",
    "                src_crs=src.crs,\n",
    "                dst_transform=coarse_res_transform,\n",
    "                dst_crs=coarse_res.crs,\n",
    "                resampling=Resampling.average\n",
    "            )"
   ]
  },
  {
   "cell_type": "code",
   "execution_count": null,
   "id": "80c4bfc4-f53b-48c5-9c92-817a27885913",
   "metadata": {},
   "outputs": [],
   "source": []
  }
 ],
 "metadata": {
  "kernelspec": {
   "display_name": "sovereign-risk",
   "language": "python",
   "name": "sovereign-risk"
  },
  "language_info": {
   "codemirror_mode": {
    "name": "ipython",
    "version": 3
   },
   "file_extension": ".py",
   "mimetype": "text/x-python",
   "name": "python",
   "nbconvert_exporter": "python",
   "pygments_lexer": "ipython3",
   "version": "3.12.0"
  }
 },
 "nbformat": 4,
 "nbformat_minor": 5
}
