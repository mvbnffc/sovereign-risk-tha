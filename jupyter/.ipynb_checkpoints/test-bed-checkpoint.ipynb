{
 "cells": [
  {
   "cell_type": "code",
   "execution_count": 97,
   "id": "eec11249-27a0-4df8-9d1e-8c975697808f",
   "metadata": {},
   "outputs": [],
   "source": [
    "import rasterio\n",
    "import numpy as np"
   ]
  },
  {
   "cell_type": "code",
   "execution_count": 105,
   "id": "45cd7772-bff1-4363-a3d6-1c871aed9d36",
   "metadata": {},
   "outputs": [],
   "source": [
    "# Set dataset paths\n",
    "flood_path = r\"D:\\projects\\sovereign-risk\\Thailand\\data\\flood\\maps\\THA_global_pc_h100glob.tif\"\n",
    "exposure_path = r\"D:\\projects\\sovereign-risk\\Thailand\\data\\exposure\\GHSL_res_val_THA.tif\"\n",
    "output_path = r\"D:\\projects\\sovereign-risk\\Thailand\\analysis\\flood\\risk_maps\\risk_test.tif\""
   ]
  },
  {
   "cell_type": "code",
   "execution_count": 106,
   "id": "76703cf7-cbe5-4752-92df-d8ff758a5711",
   "metadata": {},
   "outputs": [],
   "source": [
    "flood = rasterio.open(flood_path)\n",
    "exposure = rasterio.open(exposure_path)"
   ]
  },
  {
   "cell_type": "code",
   "execution_count": 111,
   "id": "09755b9f-8a50-4255-a239-f896e71db8da",
   "metadata": {},
   "outputs": [],
   "source": [
    "def vectorized_damage(depth, value, heights, damage_percents):\n",
    "    '''\n",
    "    Vectorized damage function\n",
    "    Apply damage function given a flood depth and exposure value.\n",
    "    Function also needs as input the damage function heights > damage_percents\n",
    "    '''\n",
    "    # Use np.interp for vectorized linear interpolation\n",
    "    damage_percentage = np.interp(depth, heights, damage_percents)\n",
    "    return damage_percentage * value\n",
    "\n",
    "def calculate_risk(flood, building_values, heights, damage_percents):\n",
    "    '''\n",
    "    Calculate flood risk given a flood map and a map of building values\n",
    "    '''\n",
    "    exposure = np.where(flood>0, building_values, 0)\n",
    "    risk = vectorized_damage(flood, exposure, heights, damage_percents)\n",
    "\n",
    "    return risk"
   ]
  },
  {
   "cell_type": "code",
   "execution_count": 108,
   "id": "b8c5a2f7-b58d-4089-843c-8052ba594035",
   "metadata": {},
   "outputs": [],
   "source": [
    "heights = np.array([0, 0.5, 1, 1.5, 2, 3, 4, 5, 6])\n",
    "damage_percents = np.array([0, 0.33, 0.49, 0.62, 0.72, 0.87, 0.93, 0.98, 1])"
   ]
  },
  {
   "cell_type": "code",
   "execution_count": 112,
   "id": "e8230956-181b-46e5-8b8f-b6a4fa7a5dc4",
   "metadata": {},
   "outputs": [
    {
     "ename": "AttributeError",
     "evalue": "'NoneType' object has no attribute 'astype'",
     "output_type": "error",
     "traceback": [
      "\u001b[1;31m---------------------------------------------------------------------------\u001b[0m",
      "\u001b[1;31mAttributeError\u001b[0m                            Traceback (most recent call last)",
      "Cell \u001b[1;32mIn[112], line 28\u001b[0m\n\u001b[0;32m     24\u001b[0m flood_array \u001b[38;5;241m=\u001b[39m np\u001b[38;5;241m.\u001b[39mwhere(flood_array\u001b[38;5;241m>\u001b[39m\u001b[38;5;241m0\u001b[39m, flood_array, \u001b[38;5;241m0\u001b[39m) \u001b[38;5;66;03m# remove negative values\u001b[39;00m\n\u001b[0;32m     26\u001b[0m risk \u001b[38;5;241m=\u001b[39m calculate_risk(flood_array, exposure_array, heights, damage_percents)\n\u001b[1;32m---> 28\u001b[0m dst\u001b[38;5;241m.\u001b[39mwrite(\u001b[43mrisk\u001b[49m\u001b[38;5;241;43m.\u001b[39;49m\u001b[43mastype\u001b[49m(rasterio\u001b[38;5;241m.\u001b[39mfloat32), window\u001b[38;5;241m=\u001b[39mwindow, indexes\u001b[38;5;241m=\u001b[39m\u001b[38;5;241m1\u001b[39m)\n",
      "\u001b[1;31mAttributeError\u001b[0m: 'NoneType' object has no attribute 'astype'"
     ]
    }
   ],
   "source": [
    "# Run the windowed analysis\n",
    "profile = flood.meta.copy()\n",
    "profile.update(dtype=rasterio.float32, compress='lzw', nodata=0)\n",
    "nodata = flood.nodata\n",
    "\n",
    "with rasterio.open(output_path, 'w', **profile) as dst:\n",
    "    i = 0\n",
    "    for ji, window in flood.block_windows(1):\n",
    "        i += 1\n",
    "\n",
    "        affine = rasterio.windows.transform(window, flood.transform)\n",
    "        height, width = rasterio.windows.shape(window)\n",
    "        bbox = rasterio.windows.bounds(window, flood.transform)\n",
    "\n",
    "        profile.update({\n",
    "            'height': height,\n",
    "            'width': width,\n",
    "            'affine': affine\n",
    "        })\n",
    "\n",
    "        flood_array = flood.read(1, window=window)\n",
    "        exposure_array = exposure.read(1, window=window)\n",
    "\n",
    "        flood_array = np.where(flood_array>0, flood_array, 0) # remove negative values\n",
    "\n",
    "        risk = calculate_risk(flood_array, exposure_array, heights, damage_percents)\n",
    "\n",
    "        dst.write(risk.astype(rasterio.float32), window=window, indexes=1)"
   ]
  },
  {
   "cell_type": "code",
   "execution_count": null,
   "id": "45fac946-3837-42a1-ada7-660889d2da9f",
   "metadata": {},
   "outputs": [],
   "source": []
  }
 ],
 "metadata": {
  "kernelspec": {
   "display_name": "sovereign-risk",
   "language": "python",
   "name": "sovereign-risk"
  },
  "language_info": {
   "codemirror_mode": {
    "name": "ipython",
    "version": 3
   },
   "file_extension": ".py",
   "mimetype": "text/x-python",
   "name": "python",
   "nbconvert_exporter": "python",
   "pygments_lexer": "ipython3",
   "version": "3.12.0"
  }
 },
 "nbformat": 4,
 "nbformat_minor": 5
}
