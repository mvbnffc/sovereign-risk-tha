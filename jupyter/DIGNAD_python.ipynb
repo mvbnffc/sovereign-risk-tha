{
 "cells": [
  {
   "cell_type": "code",
   "execution_count": 1,
   "id": "7dc6a354-3503-4336-890c-75e4a5cd1617",
   "metadata": {},
   "outputs": [],
   "source": [
    "from openpyxl import load_workbook\n",
    "import subprocess\n",
    "import pandas as pd\n",
    "import datetime"
   ]
  },
  {
   "cell_type": "code",
   "execution_count": 3,
   "id": "449cc35f-30bb-4e1b-9090-41c349bcabd8",
   "metadata": {},
   "outputs": [],
   "source": [
    "# Necessary functions\n",
    "def update_calibration_parameters(sheet, parameter, new_value):\n",
    "    '''\n",
    "    This function updates the calibration sheet in DIGNAD.\n",
    "    '''\n",
    "\n",
    "    for row in sheet.iter_rows():\n",
    "        for cell in row:\n",
    "            if cell.value == parameter:\n",
    "                # Assuming the value needs to be updated in the cell right after the parameter\n",
    "                target_cell = sheet.cell(row=cell.row, column=cell.column + 1)\n",
    "                try:\n",
    "                    # Convert to float first\n",
    "                    target_cell.value = float(new_value)\n",
    "                except ValueError:\n",
    "                    # if above doesn't work, save as string\n",
    "                    target_cell.value = new_value\n",
    "                return True  # Return after the first match to avoid unnecessary updates\n",
    "    return False  # Return False if parameter not found\n",
    "\n",
    "def update_natural_hazard_parameters(nat_disaster_year, recovery_period, tradable_impact,\n",
    "                                    nontradable_impact, reconstruction_efficiency, public_debt_premium,\n",
    "                                    public_impact, private_impact, share_tradable):\n",
    "    '''\n",
    "    This function returns a dictionary that will be used to populate the Disasters sheet.\n",
    "    It takes as input the 9 parameters the user typically has to set in the Disasters sheet.\n",
    "    '''\n",
    "\n",
    "    excel_updates = {\n",
    "    (3, 4): nat_disaster_year - 2021, # C4 cell update\n",
    "    (4, 4): nat_disaster_year, # D4 cell update\n",
    "    (4, 7): tradable_impact, # D7 cell update\n",
    "    (4, 8): nontradable_impact, # D8 cell update\n",
    "    (4, 9): reconstruction_efficiency, # D9 cell update\n",
    "    (4, 10): public_debt_premium, # D10 cell update\n",
    "    (4, 11): public_impact, # D11 cell update\n",
    "    (4, 12): private_impact, # D12 cell update\n",
    "    (4, 13): share_tradable, # D13 cell update\n",
    "    (3, 17): nat_disaster_year, # C17 cell update\n",
    "    (4, 17): nat_disaster_year, # D17 cell update\n",
    "    (3, 18): nat_disaster_year + recovery_period, # C18 cell update\n",
    "    (4, 18): nat_disaster_year + recovery_period, # D18 cell update\n",
    "    (3, 20): nat_disaster_year, # C20 cell update\n",
    "    (3, 21): nat_disaster_year + recovery_period, # C21 cell update\n",
    "    (3, 23): nat_disaster_year, # C23 cell update\n",
    "    (3, 24): nat_disaster_year + recovery_period, # C24 cell update\n",
    "    (3, 26): nat_disaster_year, # C26 cell update\n",
    "    (3, 27): nat_disaster_year + recovery_period # C27 cell update\n",
    "    }\n",
    "\n",
    "    return excel_updates"
   ]
  },
  {
   "cell_type": "code",
   "execution_count": 2,
   "id": "433b9e4f-4d87-46c9-933f-3c2e7d15d201",
   "metadata": {},
   "outputs": [],
   "source": [
    "def run_DIGNAD(calibration_csv, nat_disaster_year, recovery_period, tradable_impact, nontradable_impact,\n",
    "                reconstruction_efficiency, public_debt_premium, public_impact, private_impact, share_tradable):\n",
    "    '''\n",
    "    This function runs on instance of DIGNAD with a prespecified calibration csv.\n",
    "    Parameters passed to the function are the natural hazard parameters.\n",
    "    Function outputs a list of GDP losses - from 2021 - 2040\n",
    "    '''\n",
    "\n",
    "    ### 1. Load the original Excel file - this is where all DIGNAD parameters are set\n",
    "    excel_file = r\"D:\\projects\\sovereign-risk\\Thailand\\DIGNAD\\DIGNAD_Toolkit_2023\\PW_SHARED_2023\\DIGNAD_Toolkit\\DIGNAD_python\\input_DIG-ND.xlsx\"\n",
    "    wb = load_workbook(excel_file)\n",
    "\n",
    "    ### 2. Load the CSV with calibration parameters\n",
    "    calibration_df = pd.read_csv(calibration_csv)\n",
    "\n",
    "    ### 3. Set calibration parameters\n",
    "    sheet = wb['Calibration']\n",
    "    # Iterate over the calibration DataFrame rows\n",
    "    for index, row in calibration_df.iterrows():\n",
    "        parameter = row['Parameters']  # The column name in your CSV for the parameter names\n",
    "        new_value = row['Values']       # The column name in your CSV for the new values\n",
    "        updated = update_calibration_parameters(sheet, parameter, new_value)\n",
    "        if not updated:\n",
    "            print(f\"Parameter '{parameter}' not found in the Excel sheet.\")\n",
    "\n",
    "    ### 4. Update disasters sheet\n",
    "    natdisaster_params = update_natural_hazard_parameters(nat_disaster_year, recovery_period, tradable_impact,\n",
    "                                                                nontradable_impact, reconstruction_efficiency,\n",
    "                                                                public_debt_premium, public_impact, private_impact, share_tradable)\n",
    "    sheet = wb['Disasters']\n",
    "    for (col, row), value in natdisaster_params.items():\n",
    "        cell = sheet.cell(row=row, column=col)\n",
    "        cell.value = value\n",
    "\n",
    "    ### 5. Save Excel Workbook\n",
    "    wb.save(excel_file)\n",
    "\n",
    "    ### 6. Run Matlab\n",
    "    matlab_script = r\"D:\\projects\\sovereign-risk\\Thailand\\DIGNAD\\DIGNAD_Toolkit_2023\\PW_SHARED_2023\\DIGNAD_Toolkit\\DIGNAD_python\\simulate.m\"\n",
    "    result = subprocess.call([\"matlab\", \"-batch\", \"run('\" + matlab_script + \"')\"])\n",
    "    if int(result) != 0:\n",
    "        print(\"MATLAB script not executed succesfully\")\n",
    "        return None, None\n",
    "\n",
    "    ### 7. Read results from Excel sheet\n",
    "    # Get today's date as that is the name of file and directory\n",
    "    today = datetime.datetime.today().strftime(\"%d%b%Y\")\n",
    "    file_path = r\"D:\\projects\\sovereign-risk\\Thailand\\DIGNAD\\DIGNAD_Toolkit_2023\\PW_SHARED_2023\\DIGNAD_Toolkit\\DIGNAD_python\\Excel output\\%s\\Model_output_%s.xlsx\" % (today, today)\n",
    "    df = pd.read_excel(file_path)\n",
    "    years = list(df.iloc[:, 0])\n",
    "    gdp_impact = list(df.iloc[:, 1])\n",
    "\n",
    "    return gdp_impact, years\n",
    "    "
   ]
  },
  {
   "cell_type": "code",
   "execution_count": 8,
   "id": "76f50702-9ec0-4015-b5b5-9502d0f46db7",
   "metadata": {},
   "outputs": [
    {
     "name": "stdout",
     "output_type": "stream",
     "text": [
      "MATLAB script not executed succesfully\n"
     ]
    }
   ],
   "source": [
    "# Run DIGNAD\n",
    "# Function inputs\n",
    "calibration_csv = r\"D:\\projects\\sovereign-risk\\Thailand\\data\\DIGNAD\\inputs\\THA_2022_calibration_revised.csv\"\n",
    "nat_disaster_year = 2022\n",
    "recovery_period = 5 # years\n",
    "tradable_impact = 0.004\n",
    "nontradable_impact = 0.004\n",
    "reconstruction_efficiency = 0\n",
    "public_debt_premium = 0\n",
    "public_impact = 0.004\n",
    "private_impact = 0.004\n",
    "share_tradable = 0.5\n",
    "# Run function\n",
    "gdp_impact, years = run_DIGNAD(calibration_csv, nat_disaster_year, recovery_period, tradable_impact, nontradable_impact, reconstruction_efficiency,\n",
    "                                public_debt_premium, public_impact, private_impact, share_tradable)"
   ]
  },
  {
   "cell_type": "code",
   "execution_count": 7,
   "id": "cbaa8526-3be4-4c38-a150-bbff5cd95698",
   "metadata": {},
   "outputs": [
    {
     "data": {
      "text/plain": [
       "[0.0,\n",
       " -0.2926724603718345,\n",
       " -0.2355764924967918,\n",
       " -0.1470612400606197,\n",
       " -0.09273884367914098,\n",
       " -0.059541008482133506,\n",
       " -0.026884445481267782,\n",
       " -0.011555401655127806,\n",
       " -0.010266076844889227,\n",
       " -0.009156639108964804,\n",
       " -0.008160562244241554,\n",
       " -0.007277393012516953,\n",
       " -0.006491111363171598,\n",
       " -0.005791710619884594,\n",
       " -0.005169211637023885,\n",
       " -0.0046150721877746825,\n",
       " -0.004121642312082674,\n",
       " -0.003682161889262403,\n",
       " -0.0032906308157665265,\n",
       " -0.0029417286179223012]"
      ]
     },
     "execution_count": 7,
     "metadata": {},
     "output_type": "execute_result"
    }
   ],
   "source": [
    "gdp_impact"
   ]
  },
  {
   "cell_type": "code",
   "execution_count": 17,
   "id": "bd7d2fcf-ffad-4970-9149-b87a17cb92e1",
   "metadata": {},
   "outputs": [
    {
     "data": {
      "text/plain": [
       "[0.0,\n",
       " -0.29349361194114243,\n",
       " -0.2782128866824718,\n",
       " -0.20265985385069518,\n",
       " -0.15467000269849818,\n",
       " -0.12364571451882744,\n",
       " -0.09033360967221071,\n",
       " -0.0733523658258517,\n",
       " -0.06876619387456984,\n",
       " -0.06449328742601512,\n",
       " -0.060490511015443005,\n",
       " -0.056740538372968,\n",
       " -0.05322667350209365,\n",
       " -0.04993344363558583,\n",
       " -0.04684647844703793,\n",
       " -0.04395241987450449,\n",
       " -0.04123884034893388,\n",
       " -0.038694168960551334,\n",
       " -0.03630762462925041,\n",
       " -0.03406915548666012]"
      ]
     },
     "execution_count": 17,
     "metadata": {},
     "output_type": "execute_result"
    }
   ],
   "source": [
    "gdp_impact"
   ]
  },
  {
   "cell_type": "code",
   "execution_count": null,
   "id": "23f6b680-1f16-4a96-98f9-8ce6c51f074a",
   "metadata": {},
   "outputs": [],
   "source": []
  }
 ],
 "metadata": {
  "kernelspec": {
   "display_name": "sovereign-risk",
   "language": "python",
   "name": "sovereign-risk"
  },
  "language_info": {
   "codemirror_mode": {
    "name": "ipython",
    "version": 3
   },
   "file_extension": ".py",
   "mimetype": "text/x-python",
   "name": "python",
   "nbconvert_exporter": "python",
   "pygments_lexer": "ipython3",
   "version": "3.9.19"
  }
 },
 "nbformat": 4,
 "nbformat_minor": 5
}
