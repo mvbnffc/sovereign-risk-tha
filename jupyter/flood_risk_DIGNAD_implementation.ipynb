{
 "cells": [
  {
   "cell_type": "markdown",
   "id": "e3309514-0a6c-4f00-91c8-f9b7c9b91445",
   "metadata": {},
   "source": [
    "#### STEP 0: Import Libraries and Functions"
   ]
  },
  {
   "cell_type": "code",
   "execution_count": 1,
   "id": "2bc32d58-bd1f-4921-9f1e-873157e5a1e1",
   "metadata": {},
   "outputs": [],
   "source": [
    "# Standard libraries\n",
    "import sys\n",
    "import os\n",
    "import numpy as np\n",
    "import pandas as pd\n",
    "import matplotlib.pyplot as plt\n",
    "# Going to make sure we can load all the custom scripts from the directory\n",
    "scripts_dir = r\"C:\\Users\\Mark.DESKTOP-UFHIN6T\\Projects\\sovereign-risk-THA\\scripts\\analysis\"\n",
    "# Add scripts directory to sys.path\n",
    "if scripts_dir not in sys.path:\n",
    "    sys.path.append(scripts_dir)\n",
    "from model_dependence import model_dependence\n",
    "from analysis_functions import basin_loss_curve, interpolate_damages, get_copula_model, generate_conditional_sample\n",
    "from analysis_functions import sectoral_monte_carlo_dependence_simulation, sectoral_urban_monte_carlo_dependence_simulation, run_DIGNAD\n",
    "from analysis_functions import dignad_loss_probability, get_loss_for_rp, get_dignad_inputs_for_rp"
   ]
  },
  {
   "cell_type": "markdown",
   "id": "ffed0a40-5fa9-4278-a4e8-2b9db63f90b6",
   "metadata": {},
   "source": [
    "#### STEP 1: Calibrate Copulas"
   ]
  },
  {
   "cell_type": "code",
   "execution_count": 8,
   "id": "63f99efa-42c8-4ba3-95cf-2c29f233c2f9",
   "metadata": {},
   "outputs": [],
   "source": [
    "clayton_copula_models, ordered_basins = model_dependence()"
   ]
  },
  {
   "cell_type": "markdown",
   "id": "dd1dff3a-0969-4aeb-9df6-38002d6c9bc2",
   "metadata": {},
   "source": [
    "#### STEP 2: Load and clean risk data"
   ]
  },
  {
   "cell_type": "code",
   "execution_count": 9,
   "id": "98f38ca8-da9d-49ec-886a-6e98cfe5dc42",
   "metadata": {},
   "outputs": [],
   "source": [
    "risk_data_file = r\"D:\\projects\\sovereign-risk\\Thailand\\analysis\\flood\\risk_analysis\\dignad\\urban\\risk_basin_zonal_sum.csv\"\n",
    "risk_data = pd.read_csv(risk_data_file)\n",
    "# Add columne for annual exceedance probability\n",
    "risk_data['AEP'] = 1 / risk_data['RP']\n",
    "# Add a column converting current prorection level into AEP\n",
    "risk_data['Pr_L_AEP'] = np.where(risk_data['Pr_L'] == 0, 0, 1 / risk_data['Pr_L']) # using numpy where avoids zero division errors\n",
    "# Add row for each combination that sums residential and non-residential damages\n",
    "grouped = risk_data.groupby(['FID', 'GID_1', 'NAME', 'HB_L4', 'HB_L5', 'HB_L6', 'HB_L7', 'Pr_L', 'Pr_L_AEP', 'Add_Pr', 'New_Pr_L', 'epoch', 'adaptation_scenario', 'RP', 'AEP'], as_index=False)['damages'].sum()\n",
    "grouped['urban_class'] = 'Combined'  # Add a column for urban_class with value 'total'\n",
    "risk_data = pd.concat([risk_data, grouped], ignore_index=True).sort_values(by=['FID', 'GID_1', 'NAME', 'HB_L4', 'HB_L5', 'HB_L6', 'HB_L7', 'Pr_L', 'Pr_L_AEP', 'Add_Pr', 'New_Pr_L', 'epoch', 'adaptation_scenario', 'RP', 'AEP'])\n",
    "risk_data.reset_index(drop=True, inplace=True)"
   ]
  },
  {
   "cell_type": "markdown",
   "id": "555b131e-3f2c-45ca-bb34-82798c7e2d4c",
   "metadata": {},
   "source": [
    "#### STEP 3: Run the simulation"
   ]
  },
  {
   "cell_type": "code",
   "execution_count": 10,
   "id": "1726ff9e-dcd7-4d5e-bdfa-a405570dbaa5",
   "metadata": {},
   "outputs": [],
   "source": [
    "# Run the simulation\n",
    "rps = [2, 5, 10, 25, 50, 100, 200, 500, 1000] # these are the RPs we are considering\n",
    "n_simulations = 1000\n",
    "n_years = 100\n",
    "basin = 'HB_L6' # only looking at HydroBASIN level 6 basins\n",
    "epoch ='Today'\n",
    "scenario = 'Baseline'\n",
    "res_df, com_df, ind_df, inf_df = sectoral_monte_carlo_dependence_simulation(risk_data, rps, basin, epoch, scenario, 0.5, n_years, ordered_basins, clayton_copula_models, n_simulations)"
   ]
  },
  {
   "cell_type": "markdown",
   "id": "b7f6e693-ed73-4a92-9a34-2e72e5d4d11e",
   "metadata": {},
   "source": [
    "#### STEP 5: Extract DIGNAD compliant loss-probability curves"
   ]
  },
  {
   "cell_type": "code",
   "execution_count": 11,
   "id": "4b2d11e3-8740-40cd-9c24-4e62cfed7136",
   "metadata": {},
   "outputs": [
    {
     "name": "stderr",
     "output_type": "stream",
     "text": [
      "C:\\Users\\Mark.DESKTOP-UFHIN6T\\Projects\\sovereign-risk-THA\\scripts\\analysis\\analysis_functions.py:1238: RuntimeWarning: invalid value encountered in divide\n",
      "  share_tradable = ((res_losses * res_share_tra) + (com_losses * com_share_tra) + (ind_losses * ind_share_tra) + (inf_losses * inf_share_tra)) / ((res_losses * res_share_pri) + (com_losses * com_share_pri) + (ind_losses * ind_share_pri) + (inf_losses * inf_share_pri))\n"
     ]
    }
   ],
   "source": [
    "losses, tradable, nontradable, public, private, share_tradable = dignad_loss_probability(res_df, com_df, ind_df, inf_df, 0.911, 0, 0.7205,\n",
    "                                                                                        0.3544, 0.885, 0.8503, 0.4208, 0, 14241662000000,\n",
    "                                                                                        25778622000000, 17367000000000) \n",
    "# Calculate exceedance probabilities\n",
    "num_losses = len(losses)\n",
    "exceedance_probabilities = np.arange(num_losses, 0, -1) / num_losses"
   ]
  },
  {
   "cell_type": "markdown",
   "id": "d45d9e2a-b72f-48bc-8134-2af5d42703ed",
   "metadata": {},
   "source": [
    "#### STEP 5.5: Run Steps 4 and 5 in a loop"
   ]
  },
  {
   "cell_type": "code",
   "execution_count": 6,
   "id": "10e7e9ae-b22b-464b-b5d0-3f936d0d7e7f",
   "metadata": {},
   "outputs": [
    {
     "name": "stdout",
     "output_type": "stream",
     "text": [
      "working on: Today Baseline\n"
     ]
    },
    {
     "name": "stderr",
     "output_type": "stream",
     "text": [
      "C:\\Users\\Mark.DESKTOP-UFHIN6T\\Projects\\sovereign-risk-THA\\scripts\\analysis\\analysis_functions.py:1238: RuntimeWarning: invalid value encountered in divide\n",
      "  share_tradable = ((res_losses * res_share_tra) + (com_losses * com_share_tra) + (ind_losses * ind_share_tra) + (inf_losses * inf_share_tra)) / ((res_losses * res_share_pri) + (com_losses * com_share_pri) + (ind_losses * ind_share_pri) + (inf_losses * inf_share_pri))\n"
     ]
    },
    {
     "name": "stdout",
     "output_type": "stream",
     "text": [
      "working on: Today Urban_Protection_11\n"
     ]
    },
    {
     "name": "stderr",
     "output_type": "stream",
     "text": [
      "C:\\Users\\Mark.DESKTOP-UFHIN6T\\Projects\\sovereign-risk-THA\\scripts\\analysis\\analysis_functions.py:1238: RuntimeWarning: invalid value encountered in divide\n",
      "  share_tradable = ((res_losses * res_share_tra) + (com_losses * com_share_tra) + (ind_losses * ind_share_tra) + (inf_losses * inf_share_tra)) / ((res_losses * res_share_pri) + (com_losses * com_share_pri) + (ind_losses * ind_share_pri) + (inf_losses * inf_share_pri))\n"
     ]
    },
    {
     "name": "stdout",
     "output_type": "stream",
     "text": [
      "working on: Today Urban_Protection_12\n"
     ]
    },
    {
     "name": "stderr",
     "output_type": "stream",
     "text": [
      "C:\\Users\\Mark.DESKTOP-UFHIN6T\\Projects\\sovereign-risk-THA\\scripts\\analysis\\analysis_functions.py:1238: RuntimeWarning: invalid value encountered in divide\n",
      "  share_tradable = ((res_losses * res_share_tra) + (com_losses * com_share_tra) + (ind_losses * ind_share_tra) + (inf_losses * inf_share_tra)) / ((res_losses * res_share_pri) + (com_losses * com_share_pri) + (ind_losses * ind_share_pri) + (inf_losses * inf_share_pri))\n"
     ]
    },
    {
     "name": "stdout",
     "output_type": "stream",
     "text": [
      "working on: Today Urban_Protection_13\n"
     ]
    },
    {
     "name": "stderr",
     "output_type": "stream",
     "text": [
      "C:\\Users\\Mark.DESKTOP-UFHIN6T\\Projects\\sovereign-risk-THA\\scripts\\analysis\\analysis_functions.py:1238: RuntimeWarning: invalid value encountered in divide\n",
      "  share_tradable = ((res_losses * res_share_tra) + (com_losses * com_share_tra) + (ind_losses * ind_share_tra) + (inf_losses * inf_share_tra)) / ((res_losses * res_share_pri) + (com_losses * com_share_pri) + (ind_losses * ind_share_pri) + (inf_losses * inf_share_pri))\n"
     ]
    },
    {
     "name": "stdout",
     "output_type": "stream",
     "text": [
      "working on: Today Urban_Protection_21\n"
     ]
    },
    {
     "name": "stderr",
     "output_type": "stream",
     "text": [
      "C:\\Users\\Mark.DESKTOP-UFHIN6T\\Projects\\sovereign-risk-THA\\scripts\\analysis\\analysis_functions.py:1238: RuntimeWarning: invalid value encountered in divide\n",
      "  share_tradable = ((res_losses * res_share_tra) + (com_losses * com_share_tra) + (ind_losses * ind_share_tra) + (inf_losses * inf_share_tra)) / ((res_losses * res_share_pri) + (com_losses * com_share_pri) + (ind_losses * ind_share_pri) + (inf_losses * inf_share_pri))\n"
     ]
    },
    {
     "name": "stdout",
     "output_type": "stream",
     "text": [
      "working on: Today Urban_Protection_22\n"
     ]
    },
    {
     "name": "stderr",
     "output_type": "stream",
     "text": [
      "C:\\Users\\Mark.DESKTOP-UFHIN6T\\Projects\\sovereign-risk-THA\\scripts\\analysis\\analysis_functions.py:1238: RuntimeWarning: invalid value encountered in divide\n",
      "  share_tradable = ((res_losses * res_share_tra) + (com_losses * com_share_tra) + (ind_losses * ind_share_tra) + (inf_losses * inf_share_tra)) / ((res_losses * res_share_pri) + (com_losses * com_share_pri) + (ind_losses * ind_share_pri) + (inf_losses * inf_share_pri))\n"
     ]
    },
    {
     "name": "stdout",
     "output_type": "stream",
     "text": [
      "working on: Today Urban_Protection_23\n"
     ]
    },
    {
     "name": "stderr",
     "output_type": "stream",
     "text": [
      "C:\\Users\\Mark.DESKTOP-UFHIN6T\\Projects\\sovereign-risk-THA\\scripts\\analysis\\analysis_functions.py:1238: RuntimeWarning: invalid value encountered in divide\n",
      "  share_tradable = ((res_losses * res_share_tra) + (com_losses * com_share_tra) + (ind_losses * ind_share_tra) + (inf_losses * inf_share_tra)) / ((res_losses * res_share_pri) + (com_losses * com_share_pri) + (ind_losses * ind_share_pri) + (inf_losses * inf_share_pri))\n"
     ]
    },
    {
     "name": "stdout",
     "output_type": "stream",
     "text": [
      "working on: Today Urban_Protection_30\n"
     ]
    },
    {
     "name": "stderr",
     "output_type": "stream",
     "text": [
      "C:\\Users\\Mark.DESKTOP-UFHIN6T\\Projects\\sovereign-risk-THA\\scripts\\analysis\\analysis_functions.py:1238: RuntimeWarning: invalid value encountered in divide\n",
      "  share_tradable = ((res_losses * res_share_tra) + (com_losses * com_share_tra) + (ind_losses * ind_share_tra) + (inf_losses * inf_share_tra)) / ((res_losses * res_share_pri) + (com_losses * com_share_pri) + (ind_losses * ind_share_pri) + (inf_losses * inf_share_pri))\n"
     ]
    },
    {
     "name": "stdout",
     "output_type": "stream",
     "text": [
      "working on: Future_High_Emission Baseline\n"
     ]
    },
    {
     "name": "stderr",
     "output_type": "stream",
     "text": [
      "C:\\Users\\Mark.DESKTOP-UFHIN6T\\Projects\\sovereign-risk-THA\\scripts\\analysis\\analysis_functions.py:1238: RuntimeWarning: invalid value encountered in divide\n",
      "  share_tradable = ((res_losses * res_share_tra) + (com_losses * com_share_tra) + (ind_losses * ind_share_tra) + (inf_losses * inf_share_tra)) / ((res_losses * res_share_pri) + (com_losses * com_share_pri) + (ind_losses * ind_share_pri) + (inf_losses * inf_share_pri))\n"
     ]
    },
    {
     "name": "stdout",
     "output_type": "stream",
     "text": [
      "working on: Future_High_Emission Urban_Protection_11\n"
     ]
    },
    {
     "name": "stderr",
     "output_type": "stream",
     "text": [
      "C:\\Users\\Mark.DESKTOP-UFHIN6T\\Projects\\sovereign-risk-THA\\scripts\\analysis\\analysis_functions.py:1238: RuntimeWarning: invalid value encountered in divide\n",
      "  share_tradable = ((res_losses * res_share_tra) + (com_losses * com_share_tra) + (ind_losses * ind_share_tra) + (inf_losses * inf_share_tra)) / ((res_losses * res_share_pri) + (com_losses * com_share_pri) + (ind_losses * ind_share_pri) + (inf_losses * inf_share_pri))\n"
     ]
    },
    {
     "name": "stdout",
     "output_type": "stream",
     "text": [
      "working on: Future_High_Emission Urban_Protection_12\n"
     ]
    },
    {
     "name": "stderr",
     "output_type": "stream",
     "text": [
      "C:\\Users\\Mark.DESKTOP-UFHIN6T\\Projects\\sovereign-risk-THA\\scripts\\analysis\\analysis_functions.py:1238: RuntimeWarning: invalid value encountered in divide\n",
      "  share_tradable = ((res_losses * res_share_tra) + (com_losses * com_share_tra) + (ind_losses * ind_share_tra) + (inf_losses * inf_share_tra)) / ((res_losses * res_share_pri) + (com_losses * com_share_pri) + (ind_losses * ind_share_pri) + (inf_losses * inf_share_pri))\n"
     ]
    },
    {
     "name": "stdout",
     "output_type": "stream",
     "text": [
      "working on: Future_High_Emission Urban_Protection_13\n"
     ]
    },
    {
     "name": "stderr",
     "output_type": "stream",
     "text": [
      "C:\\Users\\Mark.DESKTOP-UFHIN6T\\Projects\\sovereign-risk-THA\\scripts\\analysis\\analysis_functions.py:1238: RuntimeWarning: invalid value encountered in divide\n",
      "  share_tradable = ((res_losses * res_share_tra) + (com_losses * com_share_tra) + (ind_losses * ind_share_tra) + (inf_losses * inf_share_tra)) / ((res_losses * res_share_pri) + (com_losses * com_share_pri) + (ind_losses * ind_share_pri) + (inf_losses * inf_share_pri))\n"
     ]
    },
    {
     "name": "stdout",
     "output_type": "stream",
     "text": [
      "working on: Future_High_Emission Urban_Protection_21\n"
     ]
    },
    {
     "name": "stderr",
     "output_type": "stream",
     "text": [
      "C:\\Users\\Mark.DESKTOP-UFHIN6T\\Projects\\sovereign-risk-THA\\scripts\\analysis\\analysis_functions.py:1238: RuntimeWarning: invalid value encountered in divide\n",
      "  share_tradable = ((res_losses * res_share_tra) + (com_losses * com_share_tra) + (ind_losses * ind_share_tra) + (inf_losses * inf_share_tra)) / ((res_losses * res_share_pri) + (com_losses * com_share_pri) + (ind_losses * ind_share_pri) + (inf_losses * inf_share_pri))\n"
     ]
    },
    {
     "name": "stdout",
     "output_type": "stream",
     "text": [
      "working on: Future_High_Emission Urban_Protection_22\n"
     ]
    },
    {
     "name": "stderr",
     "output_type": "stream",
     "text": [
      "C:\\Users\\Mark.DESKTOP-UFHIN6T\\Projects\\sovereign-risk-THA\\scripts\\analysis\\analysis_functions.py:1238: RuntimeWarning: invalid value encountered in divide\n",
      "  share_tradable = ((res_losses * res_share_tra) + (com_losses * com_share_tra) + (ind_losses * ind_share_tra) + (inf_losses * inf_share_tra)) / ((res_losses * res_share_pri) + (com_losses * com_share_pri) + (ind_losses * ind_share_pri) + (inf_losses * inf_share_pri))\n"
     ]
    },
    {
     "name": "stdout",
     "output_type": "stream",
     "text": [
      "working on: Future_High_Emission Urban_Protection_23\n"
     ]
    },
    {
     "name": "stderr",
     "output_type": "stream",
     "text": [
      "C:\\Users\\Mark.DESKTOP-UFHIN6T\\Projects\\sovereign-risk-THA\\scripts\\analysis\\analysis_functions.py:1238: RuntimeWarning: invalid value encountered in divide\n",
      "  share_tradable = ((res_losses * res_share_tra) + (com_losses * com_share_tra) + (ind_losses * ind_share_tra) + (inf_losses * inf_share_tra)) / ((res_losses * res_share_pri) + (com_losses * com_share_pri) + (ind_losses * ind_share_pri) + (inf_losses * inf_share_pri))\n"
     ]
    },
    {
     "name": "stdout",
     "output_type": "stream",
     "text": [
      "working on: Future_High_Emission Urban_Protection_30\n"
     ]
    },
    {
     "name": "stderr",
     "output_type": "stream",
     "text": [
      "C:\\Users\\Mark.DESKTOP-UFHIN6T\\Projects\\sovereign-risk-THA\\scripts\\analysis\\analysis_functions.py:1238: RuntimeWarning: invalid value encountered in divide\n",
      "  share_tradable = ((res_losses * res_share_tra) + (com_losses * com_share_tra) + (ind_losses * ind_share_tra) + (inf_losses * inf_share_tra)) / ((res_losses * res_share_pri) + (com_losses * com_share_pri) + (ind_losses * ind_share_pri) + (inf_losses * inf_share_pri))\n"
     ]
    },
    {
     "name": "stdout",
     "output_type": "stream",
     "text": [
      "working on: Future_Low_Emission Baseline\n"
     ]
    },
    {
     "name": "stderr",
     "output_type": "stream",
     "text": [
      "C:\\Users\\Mark.DESKTOP-UFHIN6T\\Projects\\sovereign-risk-THA\\scripts\\analysis\\analysis_functions.py:1238: RuntimeWarning: invalid value encountered in divide\n",
      "  share_tradable = ((res_losses * res_share_tra) + (com_losses * com_share_tra) + (ind_losses * ind_share_tra) + (inf_losses * inf_share_tra)) / ((res_losses * res_share_pri) + (com_losses * com_share_pri) + (ind_losses * ind_share_pri) + (inf_losses * inf_share_pri))\n"
     ]
    },
    {
     "name": "stdout",
     "output_type": "stream",
     "text": [
      "working on: Future_Low_Emission Urban_Protection_11\n"
     ]
    },
    {
     "name": "stderr",
     "output_type": "stream",
     "text": [
      "C:\\Users\\Mark.DESKTOP-UFHIN6T\\Projects\\sovereign-risk-THA\\scripts\\analysis\\analysis_functions.py:1238: RuntimeWarning: invalid value encountered in divide\n",
      "  share_tradable = ((res_losses * res_share_tra) + (com_losses * com_share_tra) + (ind_losses * ind_share_tra) + (inf_losses * inf_share_tra)) / ((res_losses * res_share_pri) + (com_losses * com_share_pri) + (ind_losses * ind_share_pri) + (inf_losses * inf_share_pri))\n"
     ]
    },
    {
     "name": "stdout",
     "output_type": "stream",
     "text": [
      "working on: Future_Low_Emission Urban_Protection_12\n"
     ]
    },
    {
     "name": "stderr",
     "output_type": "stream",
     "text": [
      "C:\\Users\\Mark.DESKTOP-UFHIN6T\\Projects\\sovereign-risk-THA\\scripts\\analysis\\analysis_functions.py:1238: RuntimeWarning: invalid value encountered in divide\n",
      "  share_tradable = ((res_losses * res_share_tra) + (com_losses * com_share_tra) + (ind_losses * ind_share_tra) + (inf_losses * inf_share_tra)) / ((res_losses * res_share_pri) + (com_losses * com_share_pri) + (ind_losses * ind_share_pri) + (inf_losses * inf_share_pri))\n"
     ]
    },
    {
     "name": "stdout",
     "output_type": "stream",
     "text": [
      "working on: Future_Low_Emission Urban_Protection_13\n"
     ]
    },
    {
     "name": "stderr",
     "output_type": "stream",
     "text": [
      "C:\\Users\\Mark.DESKTOP-UFHIN6T\\Projects\\sovereign-risk-THA\\scripts\\analysis\\analysis_functions.py:1238: RuntimeWarning: invalid value encountered in divide\n",
      "  share_tradable = ((res_losses * res_share_tra) + (com_losses * com_share_tra) + (ind_losses * ind_share_tra) + (inf_losses * inf_share_tra)) / ((res_losses * res_share_pri) + (com_losses * com_share_pri) + (ind_losses * ind_share_pri) + (inf_losses * inf_share_pri))\n"
     ]
    },
    {
     "name": "stdout",
     "output_type": "stream",
     "text": [
      "working on: Future_Low_Emission Urban_Protection_21\n"
     ]
    },
    {
     "name": "stderr",
     "output_type": "stream",
     "text": [
      "C:\\Users\\Mark.DESKTOP-UFHIN6T\\Projects\\sovereign-risk-THA\\scripts\\analysis\\analysis_functions.py:1238: RuntimeWarning: invalid value encountered in divide\n",
      "  share_tradable = ((res_losses * res_share_tra) + (com_losses * com_share_tra) + (ind_losses * ind_share_tra) + (inf_losses * inf_share_tra)) / ((res_losses * res_share_pri) + (com_losses * com_share_pri) + (ind_losses * ind_share_pri) + (inf_losses * inf_share_pri))\n"
     ]
    },
    {
     "name": "stdout",
     "output_type": "stream",
     "text": [
      "working on: Future_Low_Emission Urban_Protection_22\n"
     ]
    },
    {
     "name": "stderr",
     "output_type": "stream",
     "text": [
      "C:\\Users\\Mark.DESKTOP-UFHIN6T\\Projects\\sovereign-risk-THA\\scripts\\analysis\\analysis_functions.py:1238: RuntimeWarning: invalid value encountered in divide\n",
      "  share_tradable = ((res_losses * res_share_tra) + (com_losses * com_share_tra) + (ind_losses * ind_share_tra) + (inf_losses * inf_share_tra)) / ((res_losses * res_share_pri) + (com_losses * com_share_pri) + (ind_losses * ind_share_pri) + (inf_losses * inf_share_pri))\n"
     ]
    },
    {
     "name": "stdout",
     "output_type": "stream",
     "text": [
      "working on: Future_Low_Emission Urban_Protection_23\n"
     ]
    },
    {
     "name": "stderr",
     "output_type": "stream",
     "text": [
      "C:\\Users\\Mark.DESKTOP-UFHIN6T\\Projects\\sovereign-risk-THA\\scripts\\analysis\\analysis_functions.py:1238: RuntimeWarning: invalid value encountered in divide\n",
      "  share_tradable = ((res_losses * res_share_tra) + (com_losses * com_share_tra) + (ind_losses * ind_share_tra) + (inf_losses * inf_share_tra)) / ((res_losses * res_share_pri) + (com_losses * com_share_pri) + (ind_losses * ind_share_pri) + (inf_losses * inf_share_pri))\n"
     ]
    },
    {
     "name": "stdout",
     "output_type": "stream",
     "text": [
      "working on: Future_Low_Emission Urban_Protection_30\n"
     ]
    },
    {
     "name": "stderr",
     "output_type": "stream",
     "text": [
      "C:\\Users\\Mark.DESKTOP-UFHIN6T\\Projects\\sovereign-risk-THA\\scripts\\analysis\\analysis_functions.py:1238: RuntimeWarning: invalid value encountered in divide\n",
      "  share_tradable = ((res_losses * res_share_tra) + (com_losses * com_share_tra) + (ind_losses * ind_share_tra) + (inf_losses * inf_share_tra)) / ((res_losses * res_share_pri) + (com_losses * com_share_pri) + (ind_losses * ind_share_pri) + (inf_losses * inf_share_pri))\n"
     ]
    }
   ],
   "source": [
    "# Run the simulation\n",
    "rps = [2, 5, 10, 25, 50, 100, 200, 500, 1000] # these are the RPs we are considering\n",
    "n_simulations = 100\n",
    "n_years = 1000\n",
    "basin = 'HB_L6' # only looking at HydroBASIN level 6 basins\n",
    "epochs =['Today', 'Future_High_Emission', 'Future_Low_Emission']\n",
    "# scenarios = ['Baseline', 'Urban_Protection_11', 'Urban_Protection_12', 'Urban_Protection_13', 'Urban_Protection_21',\n",
    "#              'Urban_Protection_22','Urban_Protection_23', 'Urban_Protection_30']\n",
    "scenarios = ['Urban_Protection_21']\n",
    "results_dic = {}\n",
    "dignad_dic = {}\n",
    "for epoch in epochs:\n",
    "    scenario_dic = {}\n",
    "    d_scenario_dic = {}\n",
    "    for scenario in scenarios:\n",
    "        # Debug\n",
    "        print('working on:', epoch, scenario)\n",
    "        if scenario == 'Baseline':\n",
    "            res_df, com_df, ind_df, inf_df = sectoral_monte_carlo_dependence_simulation(risk_data, rps, basin, epoch, scenario, 0.5, n_years,\n",
    "                                                                                        ordered_basins, clayton_copula_models, n_simulations)\n",
    "        else:\n",
    "            res_df, com_df, ind_df, inf_df = sectoral_urban_monte_carlo_dependence_simulation(risk_data, rps, basin, epoch, scenario, 0.5, n_years,\n",
    "                                                                                               ordered_basins, clayton_copula_models, n_simulations)\n",
    "        losses, tradable, nontradable, public, private, share_tradable = dignad_loss_probability(res_df, com_df, ind_df, inf_df, 0.911, 0, 0.7205,\n",
    "                                                                                        0.3544, 0.885, 0.8503, 0.4208, 0, 14241662000000,\n",
    "                                                                                        25778622000000, 17367000000000) \n",
    "        scenario_dic[scenario] = [res_df, com_df, ind_df, inf_df]\n",
    "        d_scenario_dic[scenario] = [losses, tradable, nontradable, public, private, share_tradable]\n",
    "    results_dic[epoch] = scenario_dic\n",
    "    dignad_dic[epoch] = d_scenario_dic"
   ]
  },
  {
   "cell_type": "code",
   "execution_count": 7,
   "id": "63a64b1c-4473-4b35-9873-c8834e246794",
   "metadata": {},
   "outputs": [],
   "source": [
    "# Save these to temp file\n",
    "import pickle\n",
    "dig_file = r\"C:\\Users\\Mark.DESKTOP-UFHIN6T\\OneDrive - Nexus365\\Sovereign-Risk\\Analysis\\17-June\\dig_file.pkl\"\n",
    "res_file = r\"C:\\Users\\Mark.DESKTOP-UFHIN6T\\OneDrive - Nexus365\\Sovereign-Risk\\Analysis\\17-June\\res_file.pkl\"\n",
    "with open (dig_file, 'wb') as f:\n",
    "    pickle.dump(dignad_dic, f)\n",
    "with open (res_file, 'wb') as f:\n",
    "    pickle.dump(results_dic, f)"
   ]
  },
  {
   "cell_type": "markdown",
   "id": "99f023ad-10f0-467d-84b2-ffc64e8ec15d",
   "metadata": {},
   "source": [
    "#### STEP 5.7 Cost-Benefit Analysis"
   ]
  },
  {
   "cell_type": "code",
   "execution_count": 59,
   "id": "516d3adb-93eb-4f5f-b629-c80799174830",
   "metadata": {},
   "outputs": [
    {
     "name": "stdout",
     "output_type": "stream",
     "text": [
      "Adaptation Scenario: Urban_Protection_11\n",
      "Costs: 213.9837233841332 b USD\n",
      "Benefits: 55.0 b USD\n",
      "BCR: 0.26024059835359376\n",
      "Adaptation Scenario: Urban_Protection_12\n",
      "Costs: 213.6238222410506 b USD\n",
      "Benefits: 55.0 b USD\n",
      "BCR: 0.26136068040267724\n",
      "Adaptation Scenario: Urban_Protection_13\n",
      "Costs: 106.23831867373714 b USD\n",
      "Benefits: 49.0 b USD\n",
      "BCR: 0.4696594799475994\n",
      "Adaptation Scenario: Urban_Protection_21\n",
      "Costs: 59.21498494783252 b USD\n",
      "Benefits: 47.0 b USD\n",
      "BCR: 0.8046916637564556\n",
      "Adaptation Scenario: Urban_Protection_22\n",
      "Costs: 40.74755754339931 b USD\n",
      "Benefits: 39.0 b USD\n",
      "BCR: 0.972123213725334\n",
      "Adaptation Scenario: Urban_Protection_23\n",
      "Costs: 24.709462854774564 b USD\n",
      "Benefits: 37.0 b USD\n",
      "BCR: 1.5344160920099315\n",
      "Adaptation Scenario: Urban_Protection_30\n",
      "Costs: 7.659146201229621 b USD\n",
      "Benefits: 30.0 b USD\n",
      "BCR: 4.038809640819716\n"
     ]
    }
   ],
   "source": [
    "adaptation_costs = {'Urban_Protection_11': 190260000000,\n",
    "                    'Urban_Protection_12': 189940000000,\n",
    "                    'Urban_Protection_13': 94460000000,\n",
    "                    'Urban_Protection_21': 52650000000,\n",
    "                    'Urban_Protection_22': 36230000000,\n",
    "                    'Urban_Protection_23': 21970000000,\n",
    "                    'Urban_Protection_30': 6810000000}\n",
    "thb_usd_xr = 0.028\n",
    "discount_rate = 0.08\n",
    "o_and_m_costs = 0.01 # operation and maintenance\n",
    "years_to_construct = 30\n",
    "years_effective = 78\n",
    "epoch = 'Future_High_Emission'\n",
    "# Total losses\n",
    "baseline = dignad_dic[epoch]['Baseline'][0] * thb_usd_xr\n",
    "baseline_aal = np.mean(baseline)\n",
    "\n",
    "for key in adaptation_costs:\n",
    "    adaptation = dignad_dic[epoch][key][0] * thb_usd_xr\n",
    "    adaptation_aal = np.mean(adaptation)\n",
    "    diff_aal = baseline_aal - adaptation_aal\n",
    "    benefits = 0\n",
    "    costs = 0\n",
    "    for i in range(1, years_effective+1):\n",
    "        if i <= years_to_construct:\n",
    "            benefit = ((diff_aal/30)*i)/((1+discount_rate)**i)\n",
    "            cost = (adaptation_costs[key]*o_and_m_costs)/((1+discount_rate)**i) + (adaptation_costs[key]/years_to_construct)\n",
    "        else:\n",
    "            benefit = diff_aal/((1+discount_rate)**i)\n",
    "            cost = (adaptation_costs[key]*o_and_m_costs)/((1+discount_rate)**i)\n",
    "        benefits += benefit\n",
    "        costs += cost\n",
    "    print('Adaptation Scenario: %s' % key)\n",
    "    print('Costs: %s b USD'  % (costs/1000000000))\n",
    "    print('Benefits: %s b USD' % (benefits//1000000000))\n",
    "    print('BCR: %s' % (benefits/costs))"
   ]
  },
  {
   "cell_type": "markdown",
   "id": "f230891a-b17e-4591-bd5b-e3e72fbe7100",
   "metadata": {},
   "source": [
    "#### STEP 6: Run DIGNAD"
   ]
  },
  {
   "cell_type": "code",
   "execution_count": 19,
   "id": "b0dc2d8c-946e-4ce4-b9a4-0041f197cd11",
   "metadata": {},
   "outputs": [
    {
     "name": "stdout",
     "output_type": "stream",
     "text": [
      "MATLAB script not executed succesfully\n"
     ]
    }
   ],
   "source": [
    "# User inpnuts ######\n",
    "calibration_csv = r\"D:\\projects\\sovereign-risk\\Thailand\\data\\DIGNAD\\inputs\\THA_2022_calibration_revised.csv\"\n",
    "rp = 100\n",
    "nat_disaster_year = 2022\n",
    "recovery_period = 5 # years\n",
    "reconstruction_efficiency = 0\n",
    "public_debt_premium = 0\n",
    "num_years = 100000\n",
    "exceedance_probabilities = np.arange(num_years, 0, -1) / num_years\n",
    "#####################\n",
    "# Extract data from loss-probability curve\n",
    "tradable_impact, nontradable_impact, public_impact, private_impact, share_tradable_impact = get_dignad_inputs_for_rp(rp, exceedance_probabilities,\n",
    "                                                                                                                    tradable, nontradable, public,\n",
    "                                                                                                                    private, share_tradable)\n",
    "# Run DIGNAD\n",
    "gdp_impact, years = run_DIGNAD(calibration_csv, nat_disaster_year, recovery_period, tradable_impact, nontradable_impact, reconstruction_efficiency,\n",
    "                                public_debt_premium, public_impact, private_impact, share_tradable_impact)"
   ]
  },
  {
   "cell_type": "code",
   "execution_count": 10,
   "id": "54702423-b5e4-4db2-9910-1cdf713ce7b3",
   "metadata": {},
   "outputs": [
    {
     "data": {
      "text/plain": [
       "[0.0,\n",
       " -5.108168502696242,\n",
       " -3.64233272003166,\n",
       " -2.2699987914753583,\n",
       " -1.4405852959360477,\n",
       " -0.9311754844486875,\n",
       " -0.36598341224853836,\n",
       " -0.16340961857818082,\n",
       " -0.14628609417762783,\n",
       " -0.13074794735546957,\n",
       " -0.11695971474529054,\n",
       " -0.10463378544468549,\n",
       " -0.0936361508410033,\n",
       " -0.08381417784696366,\n",
       " -0.07504174606342007,\n",
       " -0.0672041998614814,\n",
       " -0.06020035321050443,\n",
       " -0.05394001980415508,\n",
       " -0.0483430160758469,\n",
       " -0.04333795622761816]"
      ]
     },
     "execution_count": 10,
     "metadata": {},
     "output_type": "execute_result"
    }
   ],
   "source": [
    "gdp_impact"
   ]
  },
  {
   "cell_type": "code",
   "execution_count": 14,
   "id": "ee5d02a2-aa61-4107-82df-c48dc2e72ca7",
   "metadata": {},
   "outputs": [
    {
     "name": "stdout",
     "output_type": "stream",
     "text": [
      "None\n"
     ]
    }
   ],
   "source": [
    "print(gdp_impact)"
   ]
  },
  {
   "cell_type": "markdown",
   "id": "bfbdc4b6-0666-402a-8b46-97247893969f",
   "metadata": {},
   "source": [
    "#### STEP 7: Sovereign Ratings"
   ]
  },
  {
   "cell_type": "code",
   "execution_count": 27,
   "id": "1d6505be-7299-4bf1-bdf6-77f3b75bdf4e",
   "metadata": {},
   "outputs": [],
   "source": [
    "# Going to linearly interpolate in the first instance (based on values for Thailand from Matt)\n",
    "def sovereign_ratings(gdp_impact, max=True):\n",
    "    '''\n",
    "    function to return sovereign ratings impact. \n",
    "    takes as input the gdp_impact (assuming flood impact in 2022)\n",
    "    returns rating change, probability of default, and cost of debt\n",
    "    for max (returns max GDP loss), else returns 5 year average (after event). \n",
    "    '''\n",
    "    # Values from Matt\n",
    "    GDP_loss = [0, 4, 14]\n",
    "    rating_change = [0, 1.8, 8]\n",
    "    probability_of_default = [3.1, 4.8, 46]\n",
    "    cost_of_debt = [1.1, 1.5, 5.7]\n",
    "\n",
    "    # Convert to positive\n",
    "    gdp_impact = [i*-1 for i in gdp_impact]\n",
    "\n",
    "    if max:\n",
    "        gdp = np.max(gdp_impact)\n",
    "    else:\n",
    "        gdp = np.mean(gdp_impact[1:6])\n",
    "    \n",
    "    rating = np.interp(gdp, GDP_loss, rating_change)\n",
    "    PoD = np.interp(gdp, GDP_loss, probability_of_default)\n",
    "    CoD = np.interp(gdp, GDP_loss, cost_of_debt)\n",
    "\n",
    "    return gdp, rating, PoD, CoD"
   ]
  },
  {
   "cell_type": "markdown",
   "id": "39d9f6f9-3a81-46cc-9e83-b6a2277f3a6b",
   "metadata": {},
   "source": [
    "#### 7.5 Run this all in a loop"
   ]
  },
  {
   "cell_type": "code",
   "execution_count": 29,
   "id": "615cf4cb-d672-40eb-86a9-e09e3df317d1",
   "metadata": {},
   "outputs": [
    {
     "name": "stdout",
     "output_type": "stream",
     "text": [
      "Working on rp 2 for scenario Baseline and epoch Today\n",
      "GDP loss: 0.03526268049311332\n",
      "downgrade: 0.015868206221900993\n",
      "PoD: 3.1149866392095733\n",
      "CoD: 1.1035262680493114\n",
      "Capital Stock Loss: 38585459705.43168\n",
      "Average Annual Loss: 319294615959.1947\n",
      "Working on rp 3 for scenario Baseline and epoch Today\n",
      "GDP loss: 0.09451146112243736\n",
      "downgrade: 0.04253015750509681\n",
      "PoD: 3.140167370977036\n",
      "CoD: 1.1094511461122438\n",
      "Capital Stock Loss: 93052177385.15831\n",
      "Average Annual Loss: 319294615959.1947\n",
      "Working on rp 4 for scenario Baseline and epoch Today\n",
      "GDP loss: 0.164870623261002\n",
      "downgrade: 0.0741917804674509\n",
      "PoD: 3.1700700148859258\n",
      "CoD: 1.1164870623261003\n",
      "Capital Stock Loss: 175276881776.4964\n",
      "Average Annual Loss: 319294615959.1947\n",
      "Working on rp 5 for scenario Baseline and epoch Today\n",
      "GDP loss: 0.5805463354806384\n",
      "downgrade: 0.2612458509662873\n",
      "PoD: 3.3467321925792715\n",
      "CoD: 1.158054633548064\n",
      "Capital Stock Loss: 510671794826.1254\n",
      "Average Annual Loss: 319294615959.1947\n",
      "Working on rp 10 for scenario Baseline and epoch Today\n",
      "GDP loss: 1.349937804095387\n",
      "downgrade: 0.6074720118429242\n",
      "PoD: 3.6737235667405397\n",
      "CoD: 1.2349937804095388\n",
      "Capital Stock Loss: 1206576710871.2598\n",
      "Average Annual Loss: 319294615959.1947\n",
      "Working on rp 20 for scenario Baseline and epoch Today\n",
      "GDP loss: 2.025975293984943\n",
      "downgrade: 0.9116888822932243\n",
      "PoD: 3.9610394999436007\n",
      "CoD: 1.3025975293984944\n",
      "Capital Stock Loss: 1862693769583.554\n",
      "Average Annual Loss: 319294615959.1947\n",
      "Working on rp 50 for scenario Baseline and epoch Today\n",
      "GDP loss: 2.6217989800246144\n",
      "downgrade: 1.1798095410110765\n",
      "PoD: 4.214264566510461\n",
      "CoD: 1.3621798980024615\n",
      "Capital Stock Loss: 2354639698144.93\n",
      "Average Annual Loss: 319294615959.1947\n",
      "Working on rp 100 for scenario Baseline and epoch Today\n",
      "GDP loss: 2.9607052492811814\n",
      "downgrade: 1.3323173621765316\n",
      "PoD: 4.358299730944502\n",
      "CoD: 1.3960705249281182\n",
      "Capital Stock Loss: 2669187823387.811\n",
      "Average Annual Loss: 319294615959.1947\n",
      "Working on rp 200 for scenario Baseline and epoch Today\n",
      "GDP loss: 3.438498632911189\n",
      "downgrade: 1.547324384810035\n",
      "PoD: 4.561361918987255\n",
      "CoD: 1.443849863291119\n",
      "Capital Stock Loss: 3127216080576.241\n",
      "Average Annual Loss: 319294615959.1947\n",
      "Working on rp 500 for scenario Baseline and epoch Today\n",
      "GDP loss: 4.0052560443393475\n",
      "downgrade: 1.8032587474903954\n",
      "PoD: 4.8216549026781115\n",
      "CoD: 1.502207538622526\n",
      "Capital Stock Loss: 3629781949600.625\n",
      "Average Annual Loss: 319294615959.1947\n",
      "Working on rp 1000 for scenario Baseline and epoch Today\n",
      "GDP loss: 4.351022266375597\n",
      "downgrade: 2.01763380515287\n",
      "PoD: 6.246211737467458\n",
      "CoD: 1.6474293518777505\n",
      "Capital Stock Loss: 3952743211695.114\n",
      "Average Annual Loss: 319294615959.1947\n",
      "Working on rp 10000 for scenario Baseline and epoch Today\n",
      "GDP loss: 5.363048410302023\n",
      "downgrade: 2.645090014387254\n",
      "PoD: 10.415759450444334\n",
      "CoD: 2.0724803323268497\n",
      "Capital Stock Loss: 4866063011886.283\n",
      "Average Annual Loss: 319294615959.1947\n",
      "Working on rp 2 for scenario Baseline and epoch Future_High_Emission\n",
      "GDP loss: 0.09684814895668303\n",
      "downgrade: 0.043581667030507365\n",
      "PoD: 3.14116046330659\n",
      "CoD: 1.1096848148956684\n",
      "Capital Stock Loss: 106087658072.76141\n",
      "Average Annual Loss: 523887644804.01215\n",
      "Working on rp 3 for scenario Baseline and epoch Future_High_Emission\n",
      "GDP loss: 0.23269335586021622\n",
      "downgrade: 0.1047120101370973\n",
      "PoD: 3.198894676240592\n",
      "CoD: 1.1232693355860217\n",
      "Capital Stock Loss: 235227638069.49933\n",
      "Average Annual Loss: 523887644804.01215\n",
      "Working on rp 4 for scenario Baseline and epoch Future_High_Emission\n",
      "GDP loss: 0.4449702465581007\n",
      "downgrade: 0.2002366109511453\n",
      "PoD: 3.2891123547871928\n",
      "CoD: 1.1444970246558102\n",
      "Capital Stock Loss: 433746762017.56683\n",
      "Average Annual Loss: 523887644804.01215\n",
      "Working on rp 5 for scenario Baseline and epoch Future_High_Emission\n",
      "GDP loss: 1.1172225948818992\n",
      "downgrade: 0.5027501676968547\n",
      "PoD: 3.574819602824807\n",
      "CoD: 1.21172225948819\n",
      "Capital Stock Loss: 1003912582733.2415\n",
      "Average Annual Loss: 523887644804.01215\n",
      "Working on rp 10 for scenario Baseline and epoch Future_High_Emission\n",
      "GDP loss: 2.010048217296607\n",
      "downgrade: 0.9045216977834732\n",
      "PoD: 3.954270492351058\n",
      "CoD: 1.3010048217296608\n",
      "Capital Stock Loss: 1868787625329.8083\n",
      "Average Annual Loss: 523887644804.01215\n",
      "Working on rp 20 for scenario Baseline and epoch Future_High_Emission\n",
      "GDP loss: 2.9794736835597035\n",
      "downgrade: 1.3407631576018666\n",
      "PoD: 4.366276315512874\n",
      "CoD: 1.3979473683559704\n",
      "Capital Stock Loss: 2657095779821.828\n",
      "Average Annual Loss: 523887644804.01215\n",
      "Working on rp 50 for scenario Baseline and epoch Future_High_Emission\n",
      "GDP loss: 3.7206836739228755\n",
      "downgrade: 1.674307653265294\n",
      "PoD: 4.681290561417222\n",
      "CoD: 1.4720683673922876\n",
      "Capital Stock Loss: 3386449325263.3623\n",
      "Average Annual Loss: 523887644804.01215\n",
      "Working on rp 100 for scenario Baseline and epoch Future_High_Emission\n",
      "GDP loss: 4.555508163112336\n",
      "downgrade: 2.1444150611296484\n",
      "PoD: 7.088693632022823\n",
      "CoD: 1.733313428507181\n",
      "Capital Stock Loss: 4150346301262.4116\n",
      "Average Annual Loss: 523887644804.01215\n",
      "Working on rp 200 for scenario Baseline and epoch Future_High_Emission\n",
      "GDP loss: 5.28993784507457\n",
      "downgrade: 2.599761463946234\n",
      "PoD: 10.11454392170723\n",
      "CoD: 2.0417738949313198\n",
      "Capital Stock Loss: 4654934093628.668\n",
      "Average Annual Loss: 523887644804.01215\n",
      "Working on rp 500 for scenario Baseline and epoch Future_High_Emission\n",
      "GDP loss: 6.235017874933261\n",
      "downgrade: 3.1857110824586217\n",
      "PoD: 14.008273644725037\n",
      "CoD: 2.4387075074719697\n",
      "Capital Stock Loss: 5427190620824.967\n",
      "Average Annual Loss: 523887644804.01215\n",
      "Working on rp 1000 for scenario Baseline and epoch Future_High_Emission\n",
      "GDP loss: 6.7138664115813285\n",
      "downgrade: 3.4825971751804237\n",
      "PoD: 15.981129615715073\n",
      "CoD: 2.639823892864158\n",
      "Capital Stock Loss: 5979676450089.019\n",
      "Average Annual Loss: 523887644804.01215\n",
      "Working on rp 10000 for scenario Baseline and epoch Future_High_Emission\n",
      "GDP loss: 8.311927659695824\n",
      "downgrade: 4.473395149011411\n",
      "PoD: 22.565141957946796\n",
      "CoD: 3.311009617072246\n",
      "Capital Stock Loss: 7393845683953.403\n",
      "Average Annual Loss: 523887644804.01215\n",
      "Working on rp 2 for scenario Urban_Protection_21 and epoch Future_High_Emission\n",
      "GDP loss: 0.04043665027382293\n",
      "downgrade: 0.018196492623220317\n",
      "PoD: 3.1171855763663747\n",
      "CoD: 1.1040436650273824\n",
      "Capital Stock Loss: 48518168193.50164\n",
      "Average Annual Loss: 186709271273.387\n",
      "Working on rp 3 for scenario Urban_Protection_21 and epoch Future_High_Emission\n",
      "GDP loss: 0.08536761827860895\n",
      "downgrade: 0.038415428225374026\n",
      "PoD: 3.136281237768409\n",
      "CoD: 1.108536761827861\n",
      "Capital Stock Loss: 90027135831.49715\n",
      "Average Annual Loss: 186709271273.387\n",
      "Working on rp 4 for scenario Urban_Protection_21 and epoch Future_High_Emission\n",
      "GDP loss: 0.11530576310126106\n",
      "downgrade: 0.05188759339556748\n",
      "PoD: 3.149004949318036\n",
      "CoD: 1.1115305763101262\n",
      "Capital Stock Loss: 136786795125.13087\n",
      "Average Annual Loss: 186709271273.387\n",
      "Working on rp 5 for scenario Urban_Protection_21 and epoch Future_High_Emission\n",
      "GDP loss: 0.17812580933338262\n",
      "downgrade: 0.08015661420002218\n",
      "PoD: 3.1757034689666876\n",
      "CoD: 1.1178125809333384\n",
      "Capital Stock Loss: 175975101676.0395\n",
      "Average Annual Loss: 186709271273.387\n",
      "Working on rp 10 for scenario Urban_Protection_21 and epoch Future_High_Emission\n",
      "GDP loss: 0.2857120633049659\n",
      "downgrade: 0.12857042848723466\n",
      "PoD: 3.2214276269046107\n",
      "CoD: 1.1285712063304967\n",
      "Capital Stock Loss: 309729448640.98157\n",
      "Average Annual Loss: 186709271273.387\n",
      "Working on rp 20 for scenario Urban_Protection_21 and epoch Future_High_Emission\n",
      "GDP loss: 0.8535193904428118\n",
      "downgrade: 0.3840837256992653\n",
      "PoD: 3.462745740938195\n",
      "CoD: 1.1853519390442813\n",
      "Capital Stock Loss: 809933131530.5326\n",
      "Average Annual Loss: 186709271273.387\n",
      "Working on rp 50 for scenario Urban_Protection_21 and epoch Future_High_Emission\n",
      "GDP loss: 2.3240834237640096\n",
      "downgrade: 1.0458375406938043\n",
      "PoD: 4.087735455099704\n",
      "CoD: 1.332408342376401\n",
      "Capital Stock Loss: 2150107224862.7996\n",
      "Average Annual Loss: 186709271273.387\n",
      "Working on rp 100 for scenario Urban_Protection_21 and epoch Future_High_Emission\n",
      "GDP loss: 3.421004451832901\n",
      "downgrade: 1.5394520033248054\n",
      "PoD: 4.553926892028983\n",
      "CoD: 1.4421004451832902\n",
      "Capital Stock Loss: 3050355027398.27\n",
      "Average Annual Loss: 186709271273.387\n",
      "Working on rp 200 for scenario Urban_Protection_21 and epoch Future_High_Emission\n",
      "GDP loss: 3.5966675025644057\n",
      "downgrade: 1.6185003761539827\n",
      "PoD: 4.628583688589872\n",
      "CoD: 1.4596667502564407\n",
      "Capital Stock Loss: 3209079290591.1274\n",
      "Average Annual Loss: 186709271273.387\n",
      "Working on rp 500 for scenario Urban_Protection_21 and epoch Future_High_Emission\n",
      "GDP loss: 3.7753025076190516\n",
      "downgrade: 1.6988861284285732\n",
      "PoD: 4.704503565738097\n",
      "CoD: 1.4775302507619053\n",
      "Capital Stock Loss: 3421866525857.681\n",
      "Average Annual Loss: 186709271273.387\n",
      "Working on rp 1000 for scenario Urban_Protection_21 and epoch Future_High_Emission\n",
      "GDP loss: 4.859524608109401\n",
      "downgrade: 2.3329052570278286\n",
      "PoD: 8.34124138541073\n",
      "CoD: 1.8610003354059483\n",
      "Capital Stock Loss: 4270612157472.2114\n",
      "Average Annual Loss: 186709271273.387\n",
      "Working on rp 10000 for scenario Urban_Protection_21 and epoch Future_High_Emission\n",
      "GDP loss: 6.209060196614094\n",
      "downgrade: 3.169617321900738\n",
      "PoD: 13.901328010050069\n",
      "CoD: 2.4278052825779195\n",
      "Capital Stock Loss: 5448674956903.494\n",
      "Average Annual Loss: 186709271273.387\n",
      "Working on rp 2 for scenario Baseline and epoch Future_Low_Emission\n",
      "GDP loss: 0.06724698221892478\n",
      "downgrade: 0.03026114199851615\n",
      "PoD: 3.1285799674430432\n",
      "CoD: 1.1067246982218926\n",
      "Capital Stock Loss: 72938908531.02774\n",
      "Average Annual Loss: 402427239392.0556\n",
      "Working on rp 3 for scenario Baseline and epoch Future_Low_Emission\n",
      "GDP loss: 0.14993037325859104\n",
      "downgrade: 0.06746866796636597\n",
      "PoD: 3.163720408634901\n",
      "CoD: 1.1149930373258592\n",
      "Capital Stock Loss: 148988058571.04398\n",
      "Average Annual Loss: 402427239392.0556\n",
      "Working on rp 4 for scenario Baseline and epoch Future_Low_Emission\n",
      "GDP loss: 0.30861656759744616\n",
      "downgrade: 0.13887745541885077\n",
      "PoD: 3.231162041228915\n",
      "CoD: 1.1308616567597447\n",
      "Capital Stock Loss: 271726326292.80487\n",
      "Average Annual Loss: 402427239392.0556\n",
      "Working on rp 5 for scenario Baseline and epoch Future_Low_Emission\n",
      "GDP loss: 0.7342490808817459\n",
      "downgrade: 0.33041208639678565\n",
      "PoD: 3.412055859374742\n",
      "CoD: 1.1734249080881747\n",
      "Capital Stock Loss: 645851785625.1647\n",
      "Average Annual Loss: 402427239392.0556\n",
      "Working on rp 10 for scenario Baseline and epoch Future_Low_Emission\n",
      "GDP loss: 1.637512870764646\n",
      "downgrade: 0.7368807918440907\n",
      "PoD: 3.7959429700749743\n",
      "CoD: 1.2637512870764647\n",
      "Capital Stock Loss: 1503320319658.2063\n",
      "Average Annual Loss: 402427239392.0556\n",
      "Working on rp 20 for scenario Baseline and epoch Future_Low_Emission\n",
      "GDP loss: 2.279653806468971\n",
      "downgrade: 1.025844212911037\n",
      "PoD: 4.068852867749312\n",
      "CoD: 1.3279653806468972\n",
      "Capital Stock Loss: 2091384586373.6538\n",
      "Average Annual Loss: 402427239392.0556\n",
      "Working on rp 50 for scenario Baseline and epoch Future_Low_Emission\n",
      "GDP loss: 2.9867767847893396\n",
      "downgrade: 1.3440495531552028\n",
      "PoD: 4.369380133535469\n",
      "CoD: 1.398677678478934\n",
      "Capital Stock Loss: 2719205234488.2715\n",
      "Average Annual Loss: 402427239392.0556\n",
      "Working on rp 100 for scenario Baseline and epoch Future_Low_Emission\n",
      "GDP loss: 3.7137317528662073\n",
      "downgrade: 1.6711792887897934\n",
      "PoD: 4.678335994968138\n",
      "CoD: 1.4713731752866208\n",
      "Capital Stock Loss: 3354984648273.6323\n",
      "Average Annual Loss: 402427239392.0556\n",
      "Working on rp 200 for scenario Baseline and epoch Future_Low_Emission\n",
      "GDP loss: 4.192450072990692\n",
      "downgrade: 1.919319045254229\n",
      "PoD: 5.59289430072165\n",
      "CoD: 1.5808290306560906\n",
      "Capital Stock Loss: 3781441753780.9165\n",
      "Average Annual Loss: 402427239392.0556\n",
      "Working on rp 500 for scenario Baseline and epoch Future_Low_Emission\n",
      "GDP loss: 4.8762103271359525\n",
      "downgrade: 2.3432504028242906\n",
      "PoD: 8.409986547800123\n",
      "CoD: 1.8680083373971001\n",
      "Capital Stock Loss: 4338138809733.747\n",
      "Average Annual Loss: 402427239392.0556\n",
      "Working on rp 1000 for scenario Baseline and epoch Future_Low_Emission\n",
      "GDP loss: 5.389839547111128\n",
      "downgrade: 2.6617005192088996\n",
      "PoD: 10.526138934097848\n",
      "CoD: 2.083732609786674\n",
      "Capital Stock Loss: 4806691582154.607\n",
      "Average Annual Loss: 402427239392.0556\n",
      "Working on rp 10000 for scenario Baseline and epoch Future_Low_Emission\n",
      "GDP loss: 6.4535526166673804\n",
      "downgrade: 3.321202622333776\n",
      "PoD: 14.908636780669607\n",
      "CoD: 2.5304920990003\n",
      "Capital Stock Loss: 5704317953024.108\n",
      "Average Annual Loss: 402427239392.0556\n",
      "Working on rp 2 for scenario Urban_Protection_21 and epoch Future_Low_Emission\n",
      "GDP loss: 0.028388973802566664\n",
      "downgrade: 0.012775038211154999\n",
      "PoD: 3.1120653138660908\n",
      "CoD: 1.1028388973802568\n",
      "Capital Stock Loss: 31607196934.287937\n",
      "Average Annual Loss: 133833270105.32686\n",
      "Working on rp 3 for scenario Urban_Protection_21 and epoch Future_Low_Emission\n",
      "GDP loss: 0.05500918998933013\n",
      "downgrade: 0.02475413549519856\n",
      "PoD: 3.1233789057454655\n",
      "CoD: 1.105500918998933\n",
      "Capital Stock Loss: 61513562727.148705\n",
      "Average Annual Loss: 133833270105.32686\n",
      "Working on rp 4 for scenario Urban_Protection_21 and epoch Future_Low_Emission\n",
      "GDP loss: 0.07898920898397499\n",
      "downgrade: 0.035545144042788746\n",
      "PoD: 3.1335704138181892\n",
      "CoD: 1.1078989208983976\n",
      "Capital Stock Loss: 91402211016.41074\n",
      "Average Annual Loss: 133833270105.32686\n",
      "Working on rp 5 for scenario Urban_Protection_21 and epoch Future_Low_Emission\n",
      "GDP loss: 0.11762496558840763\n",
      "downgrade: 0.05293123451478343\n",
      "PoD: 3.1499906103750734\n",
      "CoD: 1.1117624965588409\n",
      "Capital Stock Loss: 115843762668.13457\n",
      "Average Annual Loss: 133833270105.32686\n",
      "Working on rp 10 for scenario Urban_Protection_21 and epoch Future_Low_Emission\n",
      "GDP loss: 0.1859038347084807\n",
      "downgrade: 0.08365672561881632\n",
      "PoD: 3.1790091297511043\n",
      "CoD: 1.1185903834708482\n",
      "Capital Stock Loss: 194080328407.42773\n",
      "Average Annual Loss: 133833270105.32686\n",
      "Working on rp 20 for scenario Urban_Protection_21 and epoch Future_Low_Emission\n",
      "GDP loss: 0.6555922938997272\n",
      "downgrade: 0.29501653225487723\n",
      "PoD: 3.378626724907384\n",
      "CoD: 1.1655592293899728\n",
      "Capital Stock Loss: 606173201316.1844\n",
      "Average Annual Loss: 133833270105.32686\n",
      "Working on rp 50 for scenario Urban_Protection_21 and epoch Future_Low_Emission\n",
      "GDP loss: 1.7861417316870365\n",
      "downgrade: 0.8037637792591664\n",
      "PoD: 3.85911023596699\n",
      "CoD: 1.2786141731687037\n",
      "Capital Stock Loss: 1650743678304.3691\n",
      "Average Annual Loss: 133833270105.32686\n",
      "Working on rp 100 for scenario Urban_Protection_21 and epoch Future_Low_Emission\n",
      "GDP loss: 2.585654029190234\n",
      "downgrade: 1.1635443131356054\n",
      "PoD: 4.19890296240585\n",
      "CoD: 1.3585654029190235\n",
      "Capital Stock Loss: 2313621842921.0625\n",
      "Average Annual Loss: 133833270105.32686\n",
      "Working on rp 200 for scenario Urban_Protection_21 and epoch Future_Low_Emission\n",
      "GDP loss: 2.769605935242205\n",
      "downgrade: 1.2463226708589923\n",
      "PoD: 4.2770825224779365\n",
      "CoD: 1.3769605935242204\n",
      "Capital Stock Loss: 2485432435103.398\n",
      "Average Annual Loss: 133833270105.32686\n",
      "Working on rp 500 for scenario Urban_Protection_21 and epoch Future_Low_Emission\n",
      "GDP loss: 2.994255266721997\n",
      "downgrade: 1.3474148700248987\n",
      "PoD: 4.372558488356848\n",
      "CoD: 1.3994255266721998\n",
      "Capital Stock Loss: 2690588269011.6377\n",
      "Average Annual Loss: 133833270105.32686\n",
      "Working on rp 1000 for scenario Urban_Protection_21 and epoch Future_Low_Emission\n",
      "GDP loss: 3.950036495213449\n",
      "downgrade: 1.777516422846052\n",
      "PoD: 4.778765510465716\n",
      "CoD: 1.4950036495213448\n",
      "Capital Stock Loss: 3476307405323.0054\n",
      "Average Annual Loss: 133833270105.32686\n",
      "Working on rp 10000 for scenario Urban_Protection_21 and epoch Future_Low_Emission\n",
      "GDP loss: 4.685497228614183\n",
      "downgrade: 2.2250082817407937\n",
      "PoD: 7.624248581890436\n",
      "CoD: 1.787908836017957\n",
      "Capital Stock Loss: 4231503015033.3403\n",
      "Average Annual Loss: 133833270105.32686\n"
     ]
    }
   ],
   "source": [
    "# User inputs\n",
    "# DIGNAD inputs\n",
    "calibration_csv = r\"D:\\projects\\sovereign-risk\\Thailand\\data\\DIGNAD\\inputs\\THA_2022_calibration.csv\"\n",
    "nat_disaster_year = 2022\n",
    "recovery_period = 5 # years\n",
    "reconstruction_efficiency = 0\n",
    "public_debt_premium = 0\n",
    "# What RPs to consider?\n",
    "rps = [2, 3, 4, 5, 10, 20, 50, 100, 200, 500, 1000, 10000]\n",
    "# Write exceedance probabilities\n",
    "num_years = 100000\n",
    "exceedance_probabilities = np.arange(num_years, 0, -1) / num_years\n",
    "\n",
    "# Run it\n",
    "sovereign_dic = {}\n",
    "for i in dignad_dic:\n",
    "    scenario_dic = {} \n",
    "    for j in dignad_dic[i]:\n",
    "        # Debug\n",
    "        if i == 'Today' and j != \"Baseline\":\n",
    "            continue\n",
    "        if i == 'Future_Low_Emission' and j == \"Urban_Protection_11\":\n",
    "            continue\n",
    "        if i == 'Future_Low_Emission' and j == \"Urban_Protection_12\":\n",
    "            continue\n",
    "        if i == 'Future_Low_Emission' and j == \"Urban_Protection_13\":\n",
    "            continue\n",
    "        if i == 'Future_Low_Emission' and j == \"Urban_Protection_22\":\n",
    "            continue\n",
    "        if i == 'Future_Low_Emission' and j == \"Urban_Protection_23\":\n",
    "            continue\n",
    "        if i == 'Future_Low_Emission' and j == \"Urban_Protection_30\":\n",
    "            continue\n",
    "        if i == 'Future_High_Emission' and j == \"Urban_Protection_11\":\n",
    "            continue\n",
    "        if i == 'Future_High_Emission' and j == \"Urban_Protection_12\":\n",
    "            continue\n",
    "        if i == 'Future_High_Emission' and j == \"Urban_Protection_13\":\n",
    "            continue\n",
    "        if i == 'Future_High_Emission' and j == \"Urban_Protection_22\":\n",
    "            continue\n",
    "        if i == 'Future_High_Emission' and j == \"Urban_Protection_23\":\n",
    "            continue\n",
    "        if i == 'Future_High_Emission' and j == \"Urban_Protection_30\":\n",
    "            continue\n",
    "        rp_dic = {}\n",
    "        for rp in rps:\n",
    "            # Debug\n",
    "            print('Working on rp %s for scenario %s and epoch %s' % (rp, j, i))\n",
    "            tradable_impact, nontradable_impact, public_impact, private_impact, share_tradable_impact = get_dignad_inputs_for_rp(rp, exceedance_probabilities,\n",
    "                                                                                                                    dignad_dic[i][j][1], dignad_dic[i][j][2],\n",
    "                                                                                                                    dignad_dic[i][j][3], dignad_dic[i][j][4],\n",
    "                                                                                                                    dignad_dic[i][j][5])\n",
    "            # print(tradable_impact, nontradable_impact, public_impact, private_impact, share_tradable_impact)\n",
    "            gdp_impact, years = run_DIGNAD(calibration_csv, nat_disaster_year, recovery_period, tradable_impact, nontradable_impact,\n",
    "                                           reconstruction_efficiency, public_debt_premium, public_impact, private_impact, share_tradable_impact)\n",
    "            # Debug\n",
    "            if gdp_impact == None:\n",
    "                continue\n",
    "            \n",
    "            gdp, rating, PoD, CoD = sovereign_ratings(gdp_impact, max=False)\n",
    "            \n",
    "            print('GDP loss:', gdp)\n",
    "            print('downgrade:', rating)\n",
    "            print('PoD:', PoD)\n",
    "            print('CoD:', CoD)\n",
    "            print('Capital Stock Loss:', get_loss_for_rp(rp, dignad_dic[i][j][0], exceedance_probabilities))\n",
    "            print('Average Annual Loss:', dignad_dic[i][j][0].mean())\n",
    "            \n",
    "            rp_dic[rp] = [gdp, rating, PoD, CoD]\n",
    "        scenario_dic[j] = rp_dic\n",
    "    sovereign_dic[i] = scenario_dic\n",
    "    "
   ]
  },
  {
   "cell_type": "code",
   "execution_count": 35,
   "id": "043d9b72-6d39-4ec8-bafe-683b916b120a",
   "metadata": {},
   "outputs": [],
   "source": [
    "sovereign_dic['Future_Low_Emission']['Urban_Protection_12'][2] = [0, 0, 3.1, 1.1]"
   ]
  },
  {
   "cell_type": "code",
   "execution_count": 3,
   "id": "ec599991-8892-4e2d-8432-a6f70c95ae73",
   "metadata": {},
   "outputs": [],
   "source": [
    "# Load the data\n",
    "import pickle\n",
    "sov_file = r\"C:\\Users\\Mark.DESKTOP-UFHIN6T\\OneDrive - Nexus365\\Sovereign-Risk\\Presentations\\data\\29-May\\sov_file.pkl\"\n",
    "dig_file = r\"C:\\Users\\Mark.DESKTOP-UFHIN6T\\OneDrive - Nexus365\\Sovereign-Risk\\Presentations\\data\\29-May\\dig_file.pkl\"\n",
    "with open(sov_file, 'rb') as file:\n",
    "    sovereign_dic = pickle.load(file)\n",
    "with open(dig_file, 'rb') as file:\n",
    "    dignad_dic = pickle.load(file)"
   ]
  },
  {
   "cell_type": "code",
   "execution_count": 2,
   "id": "27f8e898-6364-4e69-90c2-b764ebae2d37",
   "metadata": {},
   "outputs": [],
   "source": [
    "# Save these to temp file\n",
    "import pickle\n",
    "sov_file = r\"C:\\Users\\Mark.DESKTOP-UFHIN6T\\OneDrive - Nexus365\\Sovereign-Risk\\Analysis\\17-June\\sov_file.pkl\"\n",
    "dig_file = r\"C:\\Users\\Mark.DESKTOP-UFHIN6T\\OneDrive - Nexus365\\Sovereign-Risk\\Analysis\\17-June\\dig_file.pkl\"\n",
    "with open (sov_file, 'rb') as f:\n",
    "    sovereign_dic = pickle.load(f)\n",
    "with open (dig_file, 'rb') as f:\n",
    "    dignad_dic = pickle.load(f)"
   ]
  },
  {
   "cell_type": "code",
   "execution_count": 7,
   "id": "15e0e5cd-cc07-46d6-b3cc-3775647a24d7",
   "metadata": {},
   "outputs": [
    {
     "data": {
      "text/plain": [
       "{'Today': {'Baseline': [array([0.00000000e+00, 0.00000000e+00, 0.00000000e+00, ...,\n",
       "          5.48608430e+12, 5.83768869e+12, 5.98178804e+12]),\n",
       "   array([0.        , 0.        , 0.        , ..., 0.16899575, 0.17283065,\n",
       "          0.18153221]),\n",
       "   array([0.        , 0.        , 0.        , ..., 0.11945184, 0.13097259,\n",
       "          0.1317552 ]),\n",
       "   array([0.        , 0.        , 0.        , ..., 0.06406735, 0.06938077,\n",
       "          0.07079149]),\n",
       "   array([0.        , 0.        , 0.        , ..., 0.25182395, 0.26675608,\n",
       "          0.27364267]),\n",
       "   array([       nan,        nan,        nan, ..., 0.55031914, 0.53130305,\n",
       "          0.54400858])],\n",
       "  'Urban_Protection_11': [array([0.00000000e+00, 0.00000000e+00, 0.00000000e+00, ...,\n",
       "          4.26653254e+12, 4.27033075e+12, 4.87249269e+12]),\n",
       "   array([0.        , 0.        , 0.        , ..., 0.12641415, 0.13205329,\n",
       "          0.14846793]),\n",
       "   array([0.        , 0.        , 0.        , ..., 0.09566784, 0.09269977,\n",
       "          0.1069903 ]),\n",
       "   array([0.        , 0.        , 0.        , ..., 0.04928377, 0.05131494,\n",
       "          0.0561967 ]),\n",
       "   array([0.        , 0.        , 0.        , ..., 0.19638517, 0.1945727 ,\n",
       "          0.22436371]),\n",
       "   array([       nan,        nan,        nan, ..., 0.527865  , 0.55654873,\n",
       "          0.54264513])],\n",
       "  'Urban_Protection_12': [array([0.00000000e+00, 0.00000000e+00, 0.00000000e+00, ...,\n",
       "          4.24571400e+12, 4.27625338e+12, 4.46349136e+12]),\n",
       "   array([0.        , 0.        , 0.        , ..., 0.12584606, 0.12670292,\n",
       "          0.12945792]),\n",
       "   array([0.        , 0.        , 0.        , ..., 0.09517409, 0.09588539,\n",
       "          0.10162667]),\n",
       "   array([0.        , 0.        , 0.        , ..., 0.04897716, 0.04929423,\n",
       "          0.05266182]),\n",
       "   array([0.        , 0.        , 0.        , ..., 0.19549305, 0.19693444,\n",
       "          0.20434811]),\n",
       "   array([       nan,        nan,        nan, ..., 0.52789089, 0.52759517,\n",
       "          0.51950995])],\n",
       "  'Urban_Protection_13': [array([0.00000000e+00, 0.00000000e+00, 0.00000000e+00, ...,\n",
       "          4.19535773e+12, 4.24969682e+12, 4.42106972e+12]),\n",
       "   array([0.        , 0.        , 0.        , ..., 0.12821488, 0.12539802,\n",
       "          0.12976268]),\n",
       "   array([0.        , 0.        , 0.        , ..., 0.091912  , 0.09557612,\n",
       "          0.09981269]),\n",
       "   array([0.        , 0.        , 0.        , ..., 0.05117492, 0.04925543,\n",
       "          0.05181563]),\n",
       "   array([0.        , 0.        , 0.        , ..., 0.19039575, 0.1954441 ,\n",
       "          0.20275164]),\n",
       "   array([       nan,        nan,        nan, ..., 0.55222627, 0.52614323,\n",
       "          0.5248332 ])],\n",
       "  'Urban_Protection_21': [array([0.00000000e+00, 0.00000000e+00, 0.00000000e+00, ...,\n",
       "          4.27464611e+12, 4.47289677e+12, 4.53997146e+12]),\n",
       "   array([0.        , 0.        , 0.        , ..., 0.12596946, 0.12981971,\n",
       "          0.13003544]),\n",
       "   array([0.        , 0.        , 0.        , ..., 0.09622825, 0.10179164,\n",
       "          0.10427441]),\n",
       "   array([0.        , 0.        , 0.        , ..., 0.04956164, 0.05279303,\n",
       "          0.0543543 ]),\n",
       "   array([0.        , 0.        , 0.        , ..., 0.19657448, 0.20475846,\n",
       "          0.20705938]),\n",
       "   array([       nan,        nan,        nan, ..., 0.52550156, 0.51991778,\n",
       "          0.51499464])],\n",
       "  'Urban_Protection_22': [array([0.00000000e+00, 0.00000000e+00, 0.00000000e+00, ...,\n",
       "          4.30174174e+12, 4.33710350e+12, 4.44392946e+12]),\n",
       "   array([0.        , 0.        , 0.        , ..., 0.12134348, 0.13035167,\n",
       "          0.13069094]),\n",
       "   array([0.        , 0.        , 0.        , ..., 0.09983501, 0.09623009,\n",
       "          0.10018663]),\n",
       "   array([0.        , 0.        , 0.        , ..., 0.05241774, 0.05269478,\n",
       "          0.051994  ]),\n",
       "   array([0.        , 0.        , 0.        , ..., 0.19527857, 0.19703767,\n",
       "          0.20388955]),\n",
       "   array([       nan,        nan,        nan, ..., 0.5095628 , 0.54250432,\n",
       "          0.52563755])],\n",
       "  'Urban_Protection_23': [array([0.0000000e+00, 0.0000000e+00, 0.0000000e+00, ..., 4.0953063e+12,\n",
       "          4.1727014e+12, 4.2402859e+12]),\n",
       "   array([0.        , 0.        , 0.        , ..., 0.12474445, 0.12338471,\n",
       "          0.13037376]),\n",
       "   array([0.        , 0.        , 0.        , ..., 0.0899481 , 0.0937016 ,\n",
       "          0.09246215]),\n",
       "   array([0.        , 0.        , 0.        , ..., 0.05007111, 0.049141  ,\n",
       "          0.05117058]),\n",
       "   array([0.        , 0.        , 0.        , ..., 0.18573855, 0.1911251 ,\n",
       "          0.19298707]),\n",
       "   array([       nan,        nan,        nan, ..., 0.55075068, 0.52939459,\n",
       "          0.55398482])],\n",
       "  'Urban_Protection_30': [array([0.00000000e+00, 0.00000000e+00, 0.00000000e+00, ...,\n",
       "          4.45482888e+12, 5.02725103e+12, 5.11830878e+12]),\n",
       "   array([0.        , 0.        , 0.        , ..., 0.12943924, 0.1485634 ,\n",
       "          0.15236692]),\n",
       "   array([0.        , 0.        , 0.        , ..., 0.10130095, 0.11294092,\n",
       "          0.11437192]),\n",
       "   array([0.        , 0.        , 0.        , ..., 0.05399051, 0.05941873,\n",
       "          0.06111936]),\n",
       "   array([0.        , 0.        , 0.        , ..., 0.20252063, 0.23005274,\n",
       "          0.23359526]),\n",
       "   array([       nan,        nan,        nan, ..., 0.52412222, 0.52956625,\n",
       "          0.53488761])]},\n",
       " 'Future_High_Emission': {'Baseline': [array([0.00000000e+00, 0.00000000e+00, 0.00000000e+00, ...,\n",
       "          8.31977097e+12, 8.32822076e+12, 8.40442842e+12]),\n",
       "   array([0.        , 0.        , 0.        , ..., 0.25047219, 0.2637089 ,\n",
       "          0.25998511]),\n",
       "   array([0.        , 0.        , 0.        , ..., 0.18436326, 0.17737828,\n",
       "          0.18239176]),\n",
       "   array([0.        , 0.        , 0.        , ..., 0.10211228, 0.10252054,\n",
       "          0.09993643]),\n",
       "   array([0.        , 0.        , 0.        , ..., 0.37694403, 0.37702231,\n",
       "          0.3839945 ]),\n",
       "   array([       nan,        nan,        nan, ..., 0.54490213, 0.57357948,\n",
       "          0.55521264])],\n",
       "  'Urban_Protection_11': [array([0.00000000e+00, 0.00000000e+00, 0.00000000e+00, ...,\n",
       "          6.24569317e+12, 6.53491749e+12, 7.39587663e+12]),\n",
       "   array([0.        , 0.        , 0.        , ..., 0.18644036, 0.20901924,\n",
       "          0.23892723]),\n",
       "   array([0.        , 0.        , 0.        , ..., 0.13928102, 0.13802662,\n",
       "          0.15490183]),\n",
       "   array([0.        , 0.        , 0.        , ..., 0.07498109, 0.07629473,\n",
       "          0.08729668]),\n",
       "   array([0.        , 0.        , 0.        , ..., 0.28464885, 0.29998888,\n",
       "          0.33856136]),\n",
       "   array([       nan,        nan,        nan, ..., 0.53711387, 0.57136938,\n",
       "          0.57871417])],\n",
       "  'Urban_Protection_12': [array([0.00000000e+00, 0.00000000e+00, 0.00000000e+00, ...,\n",
       "          6.33612272e+12, 6.33970425e+12, 6.35873913e+12]),\n",
       "   array([0.        , 0.        , 0.        , ..., 0.2013386 , 0.20155887,\n",
       "          0.20117778]),\n",
       "   array([0.        , 0.        , 0.        , ..., 0.13455826, 0.1345755 ,\n",
       "          0.13552443]),\n",
       "   array([0.        , 0.        , 0.        , ..., 0.0767781 , 0.0768275 ,\n",
       "          0.07716259]),\n",
       "   array([0.        , 0.        , 0.        , ..., 0.28805882, 0.28821564,\n",
       "          0.28897659]),\n",
       "   array([       nan,        nan,        nan, ..., 0.57316774, 0.57348259,\n",
       "          0.57089103])],\n",
       "  'Urban_Protection_13': [array([0.00000000e+00, 0.00000000e+00, 0.00000000e+00, ...,\n",
       "          6.04911448e+12, 6.37926907e+12, 7.20232749e+12]),\n",
       "   array([0.        , 0.        , 0.        , ..., 0.18776076, 0.20199323,\n",
       "          0.22189603]),\n",
       "   array([0.        , 0.        , 0.        , ..., 0.13092589, 0.13587033,\n",
       "          0.15680276]),\n",
       "   array([0.        , 0.        , 0.        , ..., 0.07481781, 0.07760302,\n",
       "          0.08651029]),\n",
       "   array([0.        , 0.        , 0.        , ..., 0.27349304, 0.28971828,\n",
       "          0.3282031 ]),\n",
       "   array([       nan,        nan,        nan, ..., 0.56298191, 0.57173764,\n",
       "          0.55442491])],\n",
       "  'Urban_Protection_21': [array([0.00000000e+00, 0.00000000e+00, 0.00000000e+00, ...,\n",
       "          6.36354444e+12, 6.48890850e+12, 6.63183097e+12]),\n",
       "   array([0.        , 0.        , 0.        , ..., 0.19894786, 0.20398398,\n",
       "          0.20766687]),\n",
       "   array([0.        , 0.        , 0.        , ..., 0.13694279, 0.13902363,\n",
       "          0.14253321]),\n",
       "   array([0.        , 0.        , 0.        , ..., 0.07813195, 0.07953089,\n",
       "          0.08095655]),\n",
       "   array([0.        , 0.        , 0.        , ..., 0.28828392, 0.2941035 ,\n",
       "          0.30090739]),\n",
       "   array([       nan,        nan,        nan, ..., 0.56591957, 0.56876351,\n",
       "          0.56593979])],\n",
       "  'Urban_Protection_22': [array([0.00000000e+00, 0.00000000e+00, 0.00000000e+00, ...,\n",
       "          6.68916510e+12, 6.84071564e+12, 7.57628238e+12]),\n",
       "   array([0.        , 0.        , 0.        , ..., 0.20370373, 0.21714702,\n",
       "          0.2191321 ]),\n",
       "   array([0.        , 0.        , 0.        , ..., 0.14694678, 0.14539882,\n",
       "          0.17283613]),\n",
       "   array([0.        , 0.        , 0.        , ..., 0.08403546, 0.08349965,\n",
       "          0.09339043]),\n",
       "   array([0.        , 0.        , 0.        , ..., 0.30112981, 0.31039196,\n",
       "          0.34285546]),\n",
       "   array([       nan,        nan,        nan, ..., 0.5547293 , 0.57369264,\n",
       "          0.52412007])],\n",
       "  'Urban_Protection_23': [array([0.00000000e+00, 0.00000000e+00, 0.00000000e+00, ...,\n",
       "          6.49121123e+12, 6.55931090e+12, 6.75482493e+12]),\n",
       "   array([0.        , 0.        , 0.        , ..., 0.19758926, 0.2044217 ,\n",
       "          0.20924594]),\n",
       "   array([0.        , 0.        , 0.        , ..., 0.14264579, 0.14151285,\n",
       "          0.14643199]),\n",
       "   array([0.        , 0.        , 0.        , ..., 0.07806412, 0.08072712,\n",
       "          0.08090624]),\n",
       "   array([0.        , 0.        , 0.        , ..., 0.29570287, 0.29696108,\n",
       "          0.30803974]),\n",
       "   array([       nan,        nan,        nan, ..., 0.54795345, 0.56449919,\n",
       "          0.55703971])],\n",
       "  'Urban_Protection_30': [array([0.00000000e+00, 0.00000000e+00, 0.00000000e+00, ...,\n",
       "          6.62357478e+12, 6.68258706e+12, 7.39784634e+12]),\n",
       "   array([0.        , 0.        , 0.        , ..., 0.20250628, 0.201921  ,\n",
       "          0.2191829 ]),\n",
       "   array([0.        , 0.        , 0.        , ..., 0.14506395, 0.14767649,\n",
       "          0.1658862 ]),\n",
       "   array([0.        , 0.        , 0.        , ..., 0.07992871, 0.08147754,\n",
       "          0.08967883]),\n",
       "   array([0.        , 0.        , 0.        , ..., 0.30145983, 0.30330895,\n",
       "          0.33629263]),\n",
       "   array([       nan,        nan,        nan, ..., 0.55086466, 0.54592391,\n",
       "          0.53447228])]},\n",
       " 'Future_Low_Emission': {'Baseline': [array([0.00000000e+00, 0.00000000e+00, 0.00000000e+00, ...,\n",
       "          6.37356284e+12, 6.48329893e+12, 6.90862829e+12]),\n",
       "   array([0.        , 0.        , 0.        , ..., 0.20660285, 0.2100823 ,\n",
       "          0.21554493]),\n",
       "   array([0.        , 0.        , 0.        , ..., 0.13310234, 0.13543695,\n",
       "          0.14891836]),\n",
       "   array([0.        , 0.        , 0.        , ..., 0.07581326, 0.07749566,\n",
       "          0.08253487]),\n",
       "   array([0.        , 0.        , 0.        , ..., 0.29117948, 0.29581573,\n",
       "          0.31526718]),\n",
       "   array([      nan,       nan,       nan, ..., 0.5818505, 0.5823768,\n",
       "          0.560654 ])],\n",
       "  'Urban_Protection_11': [array([0.00000000e+00, 0.00000000e+00, 0.00000000e+00, ...,\n",
       "          4.54776284e+12, 4.74185554e+12, 5.04019653e+12]),\n",
       "   array([0.        , 0.        , 0.        , ..., 0.13760943, 0.14581423,\n",
       "          0.1611187 ]),\n",
       "   array([0.        , 0.        , 0.        , ..., 0.10039233, 0.10338871,\n",
       "          0.1065068 ]),\n",
       "   array([0.        , 0.        , 0.        , ..., 0.05347391, 0.05676826,\n",
       "          0.06074019]),\n",
       "   array([0.        , 0.        , 0.        , ..., 0.20838841, 0.21627001,\n",
       "          0.22947669]),\n",
       "   array([       nan,        nan,        nan, ..., 0.54151503, 0.55289095,\n",
       "          0.57576233])],\n",
       "  'Urban_Protection_12': [array([0.00000000e+00, 0.00000000e+00, 0.00000000e+00, ...,\n",
       "          5.27680275e+12, 5.32182287e+12, 5.45633889e+12]),\n",
       "   array([0.        , 0.        , 0.        , ..., 0.1688208 , 0.16919977,\n",
       "          0.17356868]),\n",
       "   array([0.        , 0.        , 0.        , ..., 0.11143008, 0.11296713,\n",
       "          0.1157716 ]),\n",
       "   array([0.        , 0.        , 0.        , ..., 0.06380883, 0.06452746,\n",
       "          0.06336766]),\n",
       "   array([0.        , 0.        , 0.        , ..., 0.24003195, 0.2419056 ,\n",
       "          0.25081089]),\n",
       "   array([       nan,        nan,        nan, ..., 0.57675689, 0.57357434,\n",
       "          0.56749345])],\n",
       "  'Urban_Protection_13': [array([0.00000000e+00, 0.00000000e+00, 0.00000000e+00, ...,\n",
       "          5.00688371e+12, 5.15351056e+12, 5.26262545e+12]),\n",
       "   array([0.        , 0.        , 0.        , ..., 0.15997402, 0.16409428,\n",
       "          0.16699855]),\n",
       "   array([0.        , 0.        , 0.        , ..., 0.10584692, 0.10925857,\n",
       "          0.11188684]),\n",
       "   array([0.        , 0.        , 0.        , ..., 0.06035549, 0.06229107,\n",
       "          0.06397476]),\n",
       "   array([0.        , 0.        , 0.        , ..., 0.22794322, 0.23445048,\n",
       "          0.23904968]),\n",
       "   array([       nan,        nan,        nan, ..., 0.57551767, 0.57395544,\n",
       "          0.57287571])],\n",
       "  'Urban_Protection_21': [array([0.00000000e+00, 0.00000000e+00, 0.00000000e+00, ...,\n",
       "          5.12692353e+12, 5.51929600e+12, 5.90382010e+12]),\n",
       "   array([0.        , 0.        , 0.        , ..., 0.16277763, 0.16478589,\n",
       "          0.1814044 ]),\n",
       "   array([0.        , 0.        , 0.        , ..., 0.1089546 , 0.12306597,\n",
       "          0.1288013 ]),\n",
       "   array([0.        , 0.        , 0.        , ..., 0.0621996 , 0.06602802,\n",
       "          0.07108683]),\n",
       "   array([0.        , 0.        , 0.        , ..., 0.23301105, 0.25177564,\n",
       "          0.2688579 ]),\n",
       "   array([       nan,        nan,        nan, ..., 0.57286735, 0.53671309,\n",
       "          0.55330026])],\n",
       "  'Urban_Protection_22': [array([0.00000000e+00, 0.00000000e+00, 0.00000000e+00, ...,\n",
       "          5.11885991e+12, 5.30515836e+12, 5.46970969e+12]),\n",
       "   array([0.        , 0.        , 0.        , ..., 0.16359844, 0.16947594,\n",
       "          0.15926232]),\n",
       "   array([0.        , 0.        , 0.        , ..., 0.10818834, 0.11216811,\n",
       "          0.12419397]),\n",
       "   array([0.        , 0.        , 0.        , ..., 0.06176436, 0.0642117 ,\n",
       "          0.06802059]),\n",
       "   array([0.        , 0.        , 0.        , ..., 0.23298199, 0.24126181,\n",
       "          0.24692786]),\n",
       "   array([       nan,        nan,        nan, ..., 0.57582784, 0.57604359,\n",
       "          0.52890641])],\n",
       "  'Urban_Protection_23': [array([0.00000000e+00, 0.00000000e+00, 0.00000000e+00, ...,\n",
       "          5.26443036e+12, 5.39583572e+12, 5.41875392e+12]),\n",
       "   array([0.        , 0.        , 0.        , ..., 0.1656726 , 0.16630092,\n",
       "          0.17110246]),\n",
       "   array([0.        , 0.        , 0.        , ..., 0.11268939, 0.11743972,\n",
       "          0.1156761 ]),\n",
       "   array([0.        , 0.        , 0.        , ..., 0.06449391, 0.06454877,\n",
       "          0.06617814]),\n",
       "   array([0.        , 0.        , 0.        , ..., 0.23863446, 0.24614598,\n",
       "          0.24583625]),\n",
       "   array([       nan,        nan,        nan, ..., 0.569316  , 0.55403573,\n",
       "          0.57075036])],\n",
       "  'Urban_Protection_30': [array([0.00000000e+00, 0.00000000e+00, 0.00000000e+00, ...,\n",
       "          5.00288551e+12, 5.06067724e+12, 5.94976346e+12]),\n",
       "   array([0.        , 0.        , 0.        , ..., 0.15420343, 0.16116901,\n",
       "          0.18126969]),\n",
       "   array([0.        , 0.        , 0.        , ..., 0.10887985, 0.10727349,\n",
       "          0.13065794]),\n",
       "   array([0.        , 0.        , 0.        , ..., 0.06058237, 0.0612263 ,\n",
       "          0.07206209]),\n",
       "   array([0.        , 0.        , 0.        , ..., 0.22748612, 0.23016987,\n",
       "          0.27052808]),\n",
       "   array([       nan,        nan,        nan, ..., 0.55587226, 0.5742076 ,\n",
       "          0.54947599])]}}"
      ]
     },
     "execution_count": 7,
     "metadata": {},
     "output_type": "execute_result"
    }
   ],
   "source": [
    "dignad_dic"
   ]
  },
  {
   "cell_type": "code",
   "execution_count": 23,
   "id": "ac9b4b01-b510-4997-ba09-0bdcafc5a2dc",
   "metadata": {},
   "outputs": [
    {
     "name": "stdout",
     "output_type": "stream",
     "text": [
      "14.668854054512341\n",
      "0.20214810574790704\n",
      "Adaptation Scenario: Urban_Protection_21\n",
      "Costs: 62.168650794787474 b USD\n",
      "Benefits: 97.0 b USD\n",
      "Benefits (including SO): 98.0 b USD\n",
      "BCR: 1.5665699016034351\n",
      "BCR (including SO): 1.5909599755268071\n"
     ]
    }
   ],
   "source": [
    "# Cost-Benefit-Analysis (including second order effects)\n",
    "def pull_cod(epoch, scenario, rps, df):\n",
    "    cod = []\n",
    "    for i in rps:\n",
    "        # adjust for actual cost of debt\n",
    "         cod.append((df[epoch][scenario][i][3] - 1.1))\n",
    "    return cod \n",
    "billion = 1000000000\n",
    "adaptation_costs = {'Urban_Protection_21': 52000000000}\n",
    "thb_usd_xr = 0.028\n",
    "discount_rate = 0.05\n",
    "o_and_m_costs = 0.01 # operation and maintenance\n",
    "years_to_construct = 30\n",
    "years_effective = 78\n",
    "epoch = 'Future_High_Emission'\n",
    "rps = [2, 5, 10, 20, 50, 100, 200, 500, 1000]\n",
    "aeps = [1/i for i in rps]\n",
    "# Total losses\n",
    "baseline = dignad_dic[epoch]['Baseline'][0] * thb_usd_xr\n",
    "baseline_aal = np.mean(baseline)\n",
    "# Second order losses\n",
    "thailand_debt_usd = 302194000000\n",
    "cod = pull_cod(epoch, 'Baseline', rps, sovereign_dic)\n",
    "cod = [i*0.01*thailand_debt_usd for i in cod]\n",
    "so_baseline_aal = np.trapz(aeps, cod)\n",
    "\n",
    "print(baseline_aal/billion)\n",
    "print(so_baseline_aal/billion)\n",
    "\n",
    "for key in adaptation_costs:\n",
    "    adaptation = dignad_dic[epoch][key][0] * thb_usd_xr\n",
    "    adaptation_aal = np.mean(adaptation)\n",
    "    adaptation_cod = pull_cod(epoch, key, rps, sovereign_dic)\n",
    "    adaptation_cod = [i*0.01*thailand_debt_usd for i in adaptation_cod]\n",
    "    so_adaptation_aal = np.trapz(aeps, adaptation_cod)\n",
    "    diff_aal = baseline_aal - adaptation_aal\n",
    "    so_diff_aal = so_baseline_aal - so_adaptation_aal\n",
    "    benefits = 0\n",
    "    costs = 0\n",
    "    benefits_so = 0\n",
    "    for i in range(1, years_effective+1):\n",
    "        if i <= years_to_construct:\n",
    "            benefit = ((diff_aal/years_to_construct)*i)/((1+discount_rate)**i)\n",
    "            benefit_so = ((so_diff_aal/years_to_construct)*i)/((1+discount_rate)**i)\n",
    "            cost = (adaptation_costs[key]*o_and_m_costs)/((1+discount_rate)**i) + (adaptation_costs[key]/years_to_construct)\n",
    "        else:\n",
    "            benefit = diff_aal/((1+discount_rate)**i)\n",
    "            benefit_so = so_diff_aal/((1+discount_rate)**i)\n",
    "            cost = (adaptation_costs[key]*o_and_m_costs)/((1+discount_rate)**i)\n",
    "        benefits += benefit\n",
    "        costs += cost\n",
    "        benefits_so += benefit + benefit_so\n",
    "    print('Adaptation Scenario: %s' % key)\n",
    "    print('Costs: %s b USD'  % (costs/1000000000))\n",
    "    print('Benefits: %s b USD' % (benefits//1000000000))\n",
    "    print('Benefits (including SO): %s b USD' % (benefits_so//1000000000))\n",
    "    print('BCR: %s' % (benefits/costs))\n",
    "    print('BCR (including SO): %s' % (benefits_so/costs))"
   ]
  },
  {
   "cell_type": "markdown",
   "id": "15d722fc-c15f-4e66-b1ad-a4b878422fae",
   "metadata": {},
   "source": [
    "#### RESULTS"
   ]
  },
  {
   "cell_type": "markdown",
   "id": "9dd43d96-43ee-40cb-b422-c4bc526a6a02",
   "metadata": {},
   "source": [
    "##### Stats"
   ]
  },
  {
   "cell_type": "code",
   "execution_count": 5,
   "id": "75cd64ae-a16d-499c-94f0-1cc8629ed441",
   "metadata": {},
   "outputs": [
    {
     "ename": "NameError",
     "evalue": "name 'losses' is not defined",
     "output_type": "error",
     "traceback": [
      "\u001b[1;31m---------------------------------------------------------------------------\u001b[0m",
      "\u001b[1;31mNameError\u001b[0m                                 Traceback (most recent call last)",
      "Cell \u001b[1;32mIn[5], line 4\u001b[0m\n\u001b[0;32m      2\u001b[0m thb_usd_xr \u001b[38;5;241m=\u001b[39m \u001b[38;5;241m0.028\u001b[39m\n\u001b[0;32m      3\u001b[0m billion \u001b[38;5;241m=\u001b[39m \u001b[38;5;241m1000000000\u001b[39m\n\u001b[1;32m----> 4\u001b[0m thb_aal \u001b[38;5;241m=\u001b[39m np\u001b[38;5;241m.\u001b[39mmean(\u001b[43mlosses\u001b[49m)\n\u001b[0;32m      5\u001b[0m usd_aal_b \u001b[38;5;241m=\u001b[39m thb_aal \u001b[38;5;241m*\u001b[39m thb_usd_xr \u001b[38;5;241m/\u001b[39m billion\n\u001b[0;32m      6\u001b[0m rp_thb \u001b[38;5;241m=\u001b[39m get_loss_for_rp(rp, losses, exceedance_probabilities)\n",
      "\u001b[1;31mNameError\u001b[0m: name 'losses' is not defined"
     ]
    }
   ],
   "source": [
    "rp = 100\n",
    "thb_usd_xr = 0.028\n",
    "billion = 1000000000\n",
    "thb_aal = np.mean(losses)\n",
    "usd_aal_b = thb_aal * thb_usd_xr / billion\n",
    "rp_thb = get_loss_for_rp(rp, losses, exceedance_probabilities)\n",
    "rp_usd_b = get_loss_for_rp(rp, losses, exceedance_probabilities) * thb_usd_xr / billion\n",
    "max_gdp = np.min(gdp_impact)\n",
    "avg_gdp = np.mean(gdp_impact[1:5]) # just take average GDP impact following \n",
    "print('Losses in Thai Baht. AAL: %s, %s-year: %s' % (thb_aal, rp, rp_thb))\n",
    "print('Losses in billion USD. AAL: %s, %s-year: %s' % (usd_aal_b, rp, rp_usd_b))\n",
    "print('%s-year GDP loss: max: %s, 5-year: %s' % (rp, max_gdp, avg_gdp))"
   ]
  },
  {
   "cell_type": "markdown",
   "id": "79480cd6-ed95-4bab-911c-db44c8c2cba3",
   "metadata": {},
   "source": [
    "##### Plots"
   ]
  },
  {
   "cell_type": "code",
   "execution_count": 35,
   "id": "02298677-3a6f-470b-9e2c-90f847b06d64",
   "metadata": {},
   "outputs": [
    {
     "data": {
      "image/png": "[encoded data removed]",
      "text/plain": [
       "<Figure size 600x400 with 1 Axes>"
      ]
     },
     "metadata": {},
     "output_type": "display_data"
    }
   ],
   "source": [
    "# Loss Probability Curve\n",
    "thb_usd_xr = 0.028\n",
    "billion = 1000000000\n",
    "num_years = 100000\n",
    "exceedance_probabilities = np.arange(num_years, 0, -1) / num_years\n",
    "# Step 3: Plot the loss probability graph\n",
    "plt.figure(figsize=(6, 4))\n",
    "plt.plot(exceedance_probabilities, (dignad_dic['Today']['Baseline'][0]*thb_usd_xr)/billion, linestyle='-', color='#1F77B4', label='B')\n",
    "plt.plot(exceedance_probabilities, (dignad_dic['Future_Low_Emission']['Baseline'][0]*thb_usd_xr)/billion, color = '#2CA02C', linestyle='-', label='FL')\n",
    "plt.plot(exceedance_probabilities, (dignad_dic['Future_High_Emission']['Baseline'][0]*thb_usd_xr)/billion, color = '#D62728', linestyle='-', label='FH')\n",
    "plt.plot(exceedance_probabilities, (dignad_dic['Future_Low_Emission']['Urban_Protection_21'][0]*thb_usd_xr)/billion, color='#98DF8A', linestyle='-', label='FLA')\n",
    "plt.plot(exceedance_probabilities, (dignad_dic['Future_High_Emission']['Urban_Protection_21'][0]*thb_usd_xr)/billion, color='#FF9896', linestyle='-', label='FLH')\n",
    "# plt.plot(exceedance_probabilities, (dignad_dic['Future_High_Emission']['Urban_Protection_22'][0]*thb_usd_xr)/billion, linestyle='-', label='A5')\n",
    "# plt.plot(exceedance_probabilities, (dignad_dic['Future_High_Emission']['Urban_Protection_23'][0]*thb_usd_xr)/billion, linestyle='-', label='A6')\n",
    "# plt.plot(exceedance_probabilities, (dignad_dic['Future_High_Emission']['Urban_Protection_30'][0]*thb_usd_xr)/billion, linestyle='-', label='A7')\n",
    "\n",
    "# plt.axhline(thb_aal)\n",
    "plt.ylabel('Capital Stock Losses ($B)')\n",
    "plt.xlabel('Annual Exceedance Probability')\n",
    "plt.title('Thailand - Capital Stock Loss Probability Curve')\n",
    "plt.legend()\n",
    "plt.xlim(left = -0.01, right = 0.3)  # adjust the right leaving left unchanged\n",
    "plt.grid(True)\n",
    "# plt.yscale('log')  # Optionally use a logarithmic scale for the y-axis\n",
    "# plt.show()\n",
    "plt.savefig(r\"C:\\Users\\Mark.DESKTOP-UFHIN6T\\OneDrive - Nexus365\\Sovereign-Risk\\Write-Up\\Report\\Figures\\capital_stock_curve.png\")"
   ]
  },
  {
   "cell_type": "code",
   "execution_count": 20,
   "id": "eee0ce6e-c290-4b29-a50c-4c3e261925ad",
   "metadata": {},
   "outputs": [
    {
     "data": {
      "image/png": "[encoded data removed]",
      "text/plain": [
       "<Figure size 800x400 with 1 Axes>"
      ]
     },
     "metadata": {},
     "output_type": "display_data"
    }
   ],
   "source": [
    "\n",
    "thb_usd_xr = 1 # 0.028\n",
    "billion = 1000000000\n",
    "num_years = 100000\n",
    "exceedance_probabilities = np.arange(num_years, 0, -1) / num_years\n",
    "# Step 3: Plot the loss probability graph\n",
    "plt.figure(figsize=(8, 4))\n",
    "# plt.plot(exceedance_probabilities, (dignad_dic['Today']['Baseline'][0]*thb_usd_xr)/billion, linestyle='-', label='Baseline - Current Adaptation')\n",
    "# plt.plot(exceedance_probabilities, (dignad_dic['Future_High_Emission']['Baseline'][0]*thb_usd_xr)/billion, linestyle='-', label='Future - Current Adaptation')\n",
    "# plt.plot(exceedance_probabilities, (dignad_dic['Future_High_Emission']['Urban_Protection_21'][0]*thb_usd_xr)/billion, linestyle='-', label='Future - Additional Adaptation')\n",
    "plt.plot(exceedance_probabilities, (dignad_dic['Today']['Baseline'][0]*thb_usd_xr)/billion, label='Baseline')\n",
    "plt.plot(exceedance_probabilities, (dignad_dic['Future_High_Emission']['Baseline'][0]*thb_usd_xr)/billion, label='Future High Emission')\n",
    "plt.plot(exceedance_probabilities, (dignad_dic['Future_Low_Emission']['Baseline'][0]*thb_usd_xr)/billion, label='Future Low Emission')\n",
    "\n",
    "\n",
    "# plt.axhline(thb_aal)\n",
    "plt.ylabel('Capital Stock Losses (billion THB)')\n",
    "plt.xlabel('Annual Exceedance Probability')\n",
    "plt.title('Thailand - Loss Probability Curve')\n",
    "# plt.xscale('log')\n",
    "plt.legend()\n",
    "plt.xlim(left = -0.01, right = 0.5)  # adjust the right leaving left unchanged\n",
    "plt.grid(True)\n",
    "# plt.yscale('log')  # Optionally use a logarithmic scale for the y-axis\n",
    "plt.show()"
   ]
  },
  {
   "cell_type": "code",
   "execution_count": 30,
   "id": "948a46d4-42c2-42f1-a6d0-1deada02a2b6",
   "metadata": {},
   "outputs": [
    {
     "data": {
      "image/png": "[encoded data removed]",
      "text/plain": [
       "<Figure size 1000x600 with 2 Axes>"
      ]
     },
     "metadata": {},
     "output_type": "display_data"
    }
   ],
   "source": [
    "### Loss Probability Curve - Capital Stock and GDP\n",
    "# Constants\n",
    "thb_usd_xr = 0.028\n",
    "billion = 1000000000\n",
    "num_years = 100000\n",
    "exceedance_probabilities = np.arange(num_years, 0, -1) / num_years\n",
    "return_periods = [1/i for i in exceedance_probabilities]\n",
    "\n",
    "# Function to pull GDP losses\n",
    "def pull_gdps(epoch, scenario, rps, df):\n",
    "    gdp_losses = []\n",
    "    for i in rps:\n",
    "        gdp_losses.append(df[epoch][scenario][i][0])\n",
    "    return gdp_losses\n",
    "\n",
    "# Return periods and their annual exceedance probabilities\n",
    "rps = [2, 5, 10, 25, 50, 100, 200, 500, 1000]\n",
    "aeps = [1/i for i in rps]\n",
    "\n",
    "baseline_color = 'blue'\n",
    "future_baseline_color = 'red'\n",
    "future_adaptation_color = 'green'\n",
    "\n",
    "# Plotting\n",
    "fig, ax1 = plt.subplots(figsize=(10, 6))\n",
    "\n",
    "# Plot loss probability curve\n",
    "ax1.plot(exceedance_probabilities, (dignad_dic['Today']['Baseline'][0]*thb_usd_xr)/billion, linestyle='-', color=baseline_color, label='Baseline - Current Adaptation')\n",
    "ax1.plot(exceedance_probabilities, (dignad_dic['Future_High_Emission']['Baseline'][0]*thb_usd_xr)/billion, linestyle='-', color=future_baseline_color, label='Future - Current Adaptation')\n",
    "ax1.plot(exceedance_probabilities, (dignad_dic['Future_High_Emission']['Urban_Protection_21'][0]*thb_usd_xr)/billion, linestyle='-', color=future_adaptation_color, label='Future - Additional Adaptation')\n",
    "\n",
    "# Customize ax1\n",
    "ax1.set_ylabel('Capital Stock Losses ($B)')\n",
    "ax1.set_xlabel('Annual Exceedance Probability')\n",
    "ax1.set_title('Thailand - Loss Probability Curve and GDP Impact')\n",
    "ax1.legend(loc='upper left')\n",
    "# ax1.set_xscale('log')\n",
    "ax1.set_xlim(left=-0.01, right=0.5)\n",
    "ax1.grid(True)\n",
    "\n",
    "# Create secondary y-axis for GDP impact\n",
    "ax2 = ax1.twinx()\n",
    "ax2.plot(aeps, pull_gdps('Today', 'Baseline', rps, sovereign_dic), linestyle='--', color=baseline_color, label='Baseline - Current Adaptation - GDP Impact')\n",
    "ax2.plot(aeps, pull_gdps('Future_High_Emission', 'Baseline', rps, sovereign_dic), linestyle='--', color=future_baseline_color, label='Future - Current Adaptation - GDP Impact')\n",
    "ax2.plot(aeps, pull_gdps('Future_High_Emission', 'Urban_Protection_21', rps, sovereign_dic), linestyle='--', color=future_adaptation_color, label='Future - Additional Adaptation - GDP Impact')\n",
    "\n",
    "# Customize ax2\n",
    "ax2.set_ylabel('GDP Impact (% loss)')\n",
    "ax2.legend(loc='upper right')\n",
    "\n",
    "plt.show()"
   ]
  },
  {
   "cell_type": "code",
   "execution_count": 6,
   "id": "1f2f4b0a-52ff-4ec1-89c4-f0310df92e98",
   "metadata": {},
   "outputs": [
    {
     "ename": "KeyError",
     "evalue": "3",
     "output_type": "error",
     "traceback": [
      "\u001b[1;31m---------------------------------------------------------------------------\u001b[0m",
      "\u001b[1;31mKeyError\u001b[0m                                  Traceback (most recent call last)",
      "Cell \u001b[1;32mIn[6], line 11\u001b[0m\n\u001b[0;32m      8\u001b[0m     \u001b[38;5;28;01mreturn\u001b[39;00m gdp_losses\n\u001b[0;32m     10\u001b[0m plt\u001b[38;5;241m.\u001b[39mfigure(figsize\u001b[38;5;241m=\u001b[39m(\u001b[38;5;241m6\u001b[39m, \u001b[38;5;241m4\u001b[39m))\n\u001b[1;32m---> 11\u001b[0m plt\u001b[38;5;241m.\u001b[39mplot(aeps, \u001b[43mpull_gdps\u001b[49m\u001b[43m(\u001b[49m\u001b[38;5;124;43m'\u001b[39;49m\u001b[38;5;124;43mToday\u001b[39;49m\u001b[38;5;124;43m'\u001b[39;49m\u001b[43m,\u001b[49m\u001b[43m \u001b[49m\u001b[38;5;124;43m'\u001b[39;49m\u001b[38;5;124;43mBaseline\u001b[39;49m\u001b[38;5;124;43m'\u001b[39;49m\u001b[43m,\u001b[49m\u001b[43m \u001b[49m\u001b[43mrps\u001b[49m\u001b[43m,\u001b[49m\u001b[43m \u001b[49m\u001b[43msovereign_dic\u001b[49m\u001b[43m)\u001b[49m, linestyle\u001b[38;5;241m=\u001b[39m\u001b[38;5;124m'\u001b[39m\u001b[38;5;124m-\u001b[39m\u001b[38;5;124m'\u001b[39m, label\u001b[38;5;241m=\u001b[39m\u001b[38;5;124m'\u001b[39m\u001b[38;5;124mB\u001b[39m\u001b[38;5;124m'\u001b[39m, color\u001b[38;5;241m=\u001b[39m\u001b[38;5;124m'\u001b[39m\u001b[38;5;124m#1F77B4\u001b[39m\u001b[38;5;124m'\u001b[39m)\n\u001b[0;32m     12\u001b[0m plt\u001b[38;5;241m.\u001b[39mplot(aeps, pull_gdps(\u001b[38;5;124m'\u001b[39m\u001b[38;5;124mFuture_Low_Emission\u001b[39m\u001b[38;5;124m'\u001b[39m, \u001b[38;5;124m'\u001b[39m\u001b[38;5;124mBaseline\u001b[39m\u001b[38;5;124m'\u001b[39m, rps, sovereign_dic), linestyle\u001b[38;5;241m=\u001b[39m\u001b[38;5;124m'\u001b[39m\u001b[38;5;124m-\u001b[39m\u001b[38;5;124m'\u001b[39m, label\u001b[38;5;241m=\u001b[39m\u001b[38;5;124m'\u001b[39m\u001b[38;5;124mFL\u001b[39m\u001b[38;5;124m'\u001b[39m, color \u001b[38;5;241m=\u001b[39m \u001b[38;5;124m'\u001b[39m\u001b[38;5;124m#2CA02C\u001b[39m\u001b[38;5;124m'\u001b[39m)\n\u001b[0;32m     13\u001b[0m plt\u001b[38;5;241m.\u001b[39mplot(aeps, pull_gdps(\u001b[38;5;124m'\u001b[39m\u001b[38;5;124mFuture_High_Emission\u001b[39m\u001b[38;5;124m'\u001b[39m, \u001b[38;5;124m'\u001b[39m\u001b[38;5;124mBaseline\u001b[39m\u001b[38;5;124m'\u001b[39m, rps, sovereign_dic), linestyle\u001b[38;5;241m=\u001b[39m\u001b[38;5;124m'\u001b[39m\u001b[38;5;124m-\u001b[39m\u001b[38;5;124m'\u001b[39m, label\u001b[38;5;241m=\u001b[39m\u001b[38;5;124m'\u001b[39m\u001b[38;5;124mFH\u001b[39m\u001b[38;5;124m'\u001b[39m, color \u001b[38;5;241m=\u001b[39m \u001b[38;5;124m'\u001b[39m\u001b[38;5;124m#D62728\u001b[39m\u001b[38;5;124m'\u001b[39m)\n",
      "Cell \u001b[1;32mIn[6], line 7\u001b[0m, in \u001b[0;36mpull_gdps\u001b[1;34m(epoch, scenario, rps, df)\u001b[0m\n\u001b[0;32m      5\u001b[0m gdp_losses \u001b[38;5;241m=\u001b[39m []\n\u001b[0;32m      6\u001b[0m \u001b[38;5;28;01mfor\u001b[39;00m i \u001b[38;5;129;01min\u001b[39;00m rps:\n\u001b[1;32m----> 7\u001b[0m      gdp_losses\u001b[38;5;241m.\u001b[39mappend(\u001b[43mdf\u001b[49m\u001b[43m[\u001b[49m\u001b[43mepoch\u001b[49m\u001b[43m]\u001b[49m\u001b[43m[\u001b[49m\u001b[43mscenario\u001b[49m\u001b[43m]\u001b[49m\u001b[43m[\u001b[49m\u001b[43mi\u001b[49m\u001b[43m]\u001b[49m[\u001b[38;5;241m0\u001b[39m])\n\u001b[0;32m      8\u001b[0m \u001b[38;5;28;01mreturn\u001b[39;00m gdp_losses\n",
      "\u001b[1;31mKeyError\u001b[0m: 3"
     ]
    },
    {
     "data": {
      "text/plain": [
       "<Figure size 600x400 with 0 Axes>"
      ]
     },
     "metadata": {},
     "output_type": "display_data"
    }
   ],
   "source": [
    "# GDP Probability Curve\n",
    "rps = [2, 3, 4, 5, 10, 20, 50, 100, 200, 500, 1000, 10000]\n",
    "aeps = [1/i for i in rps]\n",
    "def pull_gdps(epoch, scenario, rps, df):\n",
    "    gdp_losses = []\n",
    "    for i in rps:\n",
    "         gdp_losses.append(df[epoch][scenario][i][0])\n",
    "    return gdp_losses\n",
    "        \n",
    "plt.figure(figsize=(6, 4))\n",
    "plt.plot(aeps, pull_gdps('Today', 'Baseline', rps, sovereign_dic), linestyle='-', label='B', color='#1F77B4')\n",
    "plt.plot(aeps, pull_gdps('Future_Low_Emission', 'Baseline', rps, sovereign_dic), linestyle='-', label='FL', color = '#2CA02C')\n",
    "plt.plot(aeps, pull_gdps('Future_High_Emission', 'Baseline', rps, sovereign_dic), linestyle='-', label='FH', color = '#D62728')\n",
    "plt.plot(aeps, pull_gdps('Future_Low_Emission', 'Urban_Protection_21', rps, sovereign_dic), linestyle='-', label='FLA', color='#98DF8A')\n",
    "plt.plot(aeps, pull_gdps('Future_High_Emission', 'Urban_Protection_21', rps, sovereign_dic), linestyle='-', label='FHA', color='#FF9896')\n",
    "# plt.axhline(thb_aal)\n",
    "plt.ylabel('GDP Impact (% loss)')\n",
    "plt.xlabel('Annual Exceedance Probability')\n",
    "plt.title('Thailand - GDP Loss Probability Curve')\n",
    "plt.legend()\n",
    "plt.xlim(left = -0.01, right = 0.3)  # adjust the right leaving left unchanged\n",
    "plt.grid(True)\n",
    "# plt.yscale('log')  # Optionally use a logarithmic scale for the y-axis\n",
    "# plt.show()\n",
    "plt.show()\n",
    "# plt.savefig(r\"C:\\Users\\Mark.DESKTOP-UFHIN6T\\OneDrive - Nexus365\\Sovereign-Risk\\Write-Up\\Report\\Figures\\gdp_curve.png\")"
   ]
  },
  {
   "cell_type": "code",
   "execution_count": 47,
   "id": "3a136aa7-0f89-4c4b-97df-dd5520b991d8",
   "metadata": {},
   "outputs": [
    {
     "name": "stdout",
     "output_type": "stream",
     "text": [
      "100 loss: 116.20969643534754\n",
      "100 GDP loss: 4.555508163112336\n",
      "AAL: 14.668854054512341\n",
      "GDP AAL: 0.6117608019305112\n",
      "100 downgrade: 2.1444150611296484\n",
      "100 PoD: 3.9886936320228226\n",
      "100 CoD: 1.9107066138061646\n"
     ]
    }
   ],
   "source": [
    "# More STATS\n",
    "rp = 100\n",
    "epoch = 'Future_High_Emission'\n",
    "scenario = 'Baseline'\n",
    "print('%s loss:' % rp, get_loss_for_rp(rp, (dignad_dic[epoch][scenario][0]*thb_usd_xr)/billion, exceedance_probabilities))\n",
    "print('%s GDP loss:' % rp ,sovereign_dic[epoch][scenario][rp][0])\n",
    "print('AAL:', np.mean(dignad_dic[epoch][scenario][0])*thb_usd_xr/billion)\n",
    "print('GDP AAL:', np.trapz(aeps, pull_gdps(epoch, scenario, rps, sovereign_dic)))\n",
    "print('%s downgrade:' % rp, sovereign_dic[epoch][scenario][rp][1])\n",
    "print('%s PoD:' % rp, sovereign_dic[epoch][scenario][rp][2] - 3.1)\n",
    "print('%s CoD:' % rp, (sovereign_dic[epoch][scenario][rp][3] - 1.1)*301.7/100)"
   ]
  },
  {
   "cell_type": "code",
   "execution_count": 50,
   "id": "d66582ed-d31d-4c3a-9c35-521c9773b219",
   "metadata": {},
   "outputs": [
    {
     "name": "stdout",
     "output_type": "stream",
     "text": [
      "-5.697006826593654\n",
      "-0.8385042041216109\n",
      "-3.4893568580355914\n",
      "[-5.697006826593654, -4.094002878732594, -2.549154360047823, -1.6172633667682956, -1.045486526079642]\n"
     ]
    },
    {
     "data": {
      "image/png": "[encoded data removed]",
      "text/plain": [
       "<Figure size 1000x600 with 1 Axes>"
      ]
     },
     "metadata": {},
     "output_type": "display_data"
    }
   ],
   "source": [
    "# Plot DIGNAD\n",
    "from matplotlib.ticker import MaxNLocator\n",
    "plt.figure(figsize=(10,6))\n",
    "plt.plot(years, gdp_impact, marker='o', linestyle='-', color='b', label='GDP losses')\n",
    "plt.title('DIGNAD GDP Impact - 100 year flood')\n",
    "plt.ylabel('GDP Impact (% change relative to baseline)')\n",
    "# plt.axvline(2022, color='r')\n",
    "# Ensure x-axis shows whole numbers and every year\n",
    "ax = plt.gca()\n",
    "ax.xaxis.set_major_locator(MaxNLocator(integer=True))\n",
    "print(np.min(gdp_impact))\n",
    "print(np.mean(gdp_impact))\n",
    "print(np.mean(gdp_impact[1:5]))\n",
    "print(gdp_impact[1:6])"
   ]
  },
  {
   "cell_type": "code",
   "execution_count": null,
   "id": "d47a02a3-657b-4d80-a3b1-26f25b99ea5f",
   "metadata": {},
   "outputs": [],
   "source": [
    "### EXTRA: SENSITIVITY ANALYSIS\n",
    "# What parameter are we going to assess sensitvity of?\n",
    "reconstruction_efficiencies = np.linspace(0, 0.5, 10)\n",
    "public_debt_premiums = np.linspace(0, 0.5, 10)\n",
    "# Calculate exceedance probabilities\n",
    "num_losses = len(losses)\n",
    "exceedance_probabilities = np.arange(num_losses, 0, -1) / num_losses\n",
    "# User inpnuts ######\n",
    "calibration_csv = r\"D:\\projects\\sovereign-risk\\Thailand\\data\\DIGNAD\\inputs\\THA_2010_calibration.csv\"\n",
    "rp = 100\n",
    "nat_disaster_year = 2022\n",
    "recovery_period = 5 # years\n",
    "#reconstruction_efficiency = 0\n",
    "#public_debt_premium = 0\n",
    "#####################\n",
    "# Run sensitivity analysis\n",
    "results = []\n",
    "for reconstruction_efficiency in reconstruction_efficiencies:\n",
    "    for public_debt_premium in public_debt_premiums:\n",
    "        gdp_impact, years = run_DIGNAD(calibration_csv, nat_disaster_year, recovery_period, tradable_impact, nontradable_impact, reconstruction_efficiency,\n",
    "                                    public_debt_premium, public_impact, private_impact, share_tradable_impact)\n",
    "        avg_gdp_impact = np.mean(gdp_impact)\n",
    "        max_gdp_impact = np.min(gdp_impact)\n",
    "        results.append({\n",
    "            'Reconstruction Efficiency': reconstruction_efficiency,\n",
    "            'Public Debt Premium': public_debt_premium,\n",
    "            'Avg GDP Impact': avg_gdp_impact,\n",
    "            'Max GDP Impact': max_gdp_impact\n",
    "        })\n",
    "results_df = pd.DataFrame(results)"
   ]
  },
  {
   "cell_type": "code",
   "execution_count": null,
   "id": "2a434ae7-2d87-48c0-8dad-0620a4163497",
   "metadata": {},
   "outputs": [],
   "source": [
    "results_df"
   ]
  },
  {
   "cell_type": "code",
   "execution_count": null,
   "id": "5fc7f349-e4ad-4000-be72-03ba3eb5b2b0",
   "metadata": {},
   "outputs": [],
   "source": [
    "# Plot sensitivity\n",
    "fig, ax = plt.subplots(figsize=(12, 8))\n",
    "\n",
    "# Pivot the DataFrame to a suitable format for heatmap plotting\n",
    "pivot_table = results_df.pivot_table(values='Max GDP Impact', index='Public Debt Premium', columns='Reconstruction Efficiency')\n",
    "\n",
    "cax = ax.matshow(pivot_table, cmap='viridis')\n",
    "fig.colorbar(cax)\n",
    "\n",
    "# Set axis labels\n",
    "ax.set_xlabel('Reconstruction Efficiency')\n",
    "ax.set_ylabel('Public Debt Premium')\n",
    "\n",
    "# Set ticks based on the pivot table shape\n",
    "ax.set_xticks(np.arange(len(pivot_table.columns)))\n",
    "ax.set_yticks(np.arange(len(pivot_table.index)))\n",
    "\n",
    "# Set tick labels based on the actual unique values used in the pivot table\n",
    "ax.set_xticklabels([f\"{eff:.2f}\" for eff in pivot_table.columns])\n",
    "ax.set_yticklabels([f\"{debt:.2f}\" for debt in pivot_table.index])\n",
    "\n",
    "# Move x tick labels to the bottom\n",
    "ax.xaxis.set_ticks_position('bottom')\n",
    "ax.xaxis.set_label_position('bottom')\n",
    "\n",
    "plt.title('Sensitivity Analysis of GDP Impact')\n",
    "plt.show()"
   ]
  },
  {
   "cell_type": "code",
   "execution_count": 4,
   "id": "caf1e246-b69b-460d-b4a4-2f83b92d32ee",
   "metadata": {},
   "outputs": [
    {
     "name": "stdout",
     "output_type": "stream",
     "text": [
      "Adaptation Scenario: Urban Protection\n",
      "Costs: 58.48393575094571 b USD\n",
      "Benefits: 41.0 b USD\n",
      "BCR: 0.7059699241428272\n",
      "Adaptation Scenario: Dry Proofing\n",
      "Costs: 3.3740732164007157 b USD\n",
      "Benefits: 1.0 b USD\n",
      "BCR: 0.44768824457837775\n",
      "Adaptation Scenario: Relocation\n",
      "Costs: 231.68636085951562 b USD\n",
      "Benefits: 20.0 b USD\n",
      "BCR: 0.08910300013453161\n"
     ]
    }
   ],
   "source": [
    "adaptation_costs = {'Urban Protection': 52000000000,\n",
    "                    'Dry Proofing': 3000000000,\n",
    "                    'Relocation': 206000000000}\n",
    "aals = {'Baseline': 14800000000,\n",
    "       'Urban Protection': 6600000000,\n",
    "       'Dry Proofing': 14500000000,\n",
    "       'Relocation': 10700000000}\n",
    "\n",
    "thb_usd_xr = 0.028\n",
    "discount_rate = 0.08\n",
    "o_and_m_costs = 0.01 # operation and maintenance\n",
    "years_to_construct = 30\n",
    "years_effective = 78\n",
    "\n",
    "for key in adaptation_costs:\n",
    "    baseline_aal = aals['Baseline']\n",
    "    adaptation_aal = aals[key]\n",
    "    diff_aal = baseline_aal - adaptation_aal\n",
    "    benefits = 0\n",
    "    costs = 0\n",
    "    for i in range(1, years_effective+1):\n",
    "        if i <= years_to_construct:\n",
    "            benefit = ((diff_aal/30)*i)/((1+discount_rate)**i)\n",
    "            cost = (adaptation_costs[key]*o_and_m_costs)/((1+discount_rate)**i) + (adaptation_costs[key]/years_to_construct)\n",
    "        else:\n",
    "            benefit = diff_aal/((1+discount_rate)**i)\n",
    "            cost = (adaptation_costs[key]*o_and_m_costs)/((1+discount_rate)**i)\n",
    "        benefits += benefit\n",
    "        costs += cost\n",
    "    print('Adaptation Scenario: %s' % key)\n",
    "    print('Costs: %s b USD'  % (costs/1000000000))\n",
    "    print('Benefits: %s b USD' % (benefits//1000000000))\n",
    "    print('BCR: %s' % (benefits/costs))"
   ]
  },
  {
   "cell_type": "code",
   "execution_count": null,
   "id": "32239a6f-0b0e-4643-9723-a13be231b597",
   "metadata": {},
   "outputs": [],
   "source": []
  }
 ],
 "metadata": {
  "kernelspec": {
   "display_name": "sovereign-risk",
   "language": "python",
   "name": "sovereign-risk"
  },
  "language_info": {
   "codemirror_mode": {
    "name": "ipython",
    "version": 3
   },
   "file_extension": ".py",
   "mimetype": "text/x-python",
   "name": "python",
   "nbconvert_exporter": "python",
   "pygments_lexer": "ipython3",
   "version": "3.9.19"
  }
 },
 "nbformat": 4,
 "nbformat_minor": 5
}
